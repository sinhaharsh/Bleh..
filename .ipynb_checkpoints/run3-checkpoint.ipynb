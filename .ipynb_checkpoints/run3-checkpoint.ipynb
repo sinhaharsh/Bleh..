{
 "cells": [
  {
   "cell_type": "code",
   "execution_count": 1,
   "metadata": {
    "collapsed": false
   },
   "outputs": [
    {
     "name": "stdout",
     "output_type": "stream",
     "text": [
      "Populating the interactive namespace from numpy and matplotlib\n",
      "test.csv\n",
      "train.csv\n",
      "\n",
      "0.502140359687\n"
     ]
    },
    {
     "name": "stderr",
     "output_type": "stream",
     "text": [
      "/home/harsh/Projects/enviro/local/lib/python2.7/site-packages/matplotlib/font_manager.py:273: UserWarning: Matplotlib is building the font cache using fc-list. This may take a moment.\n",
      "  warnings.warn('Matplotlib is building the font cache using fc-list. This may take a moment.')\n"
     ]
    }
   ],
   "source": [
    "# THIS WAS MY FIRST SCRIPT AND IT HAS SOME FLAWS. \n",
    "# IT'S STILL HERE BECAUSE I GOT FOND OF IT.\n",
    "\n",
    "# This Python 3 environment comes with many helpful analytics libraries installed\n",
    "# It is defined by the kaggle/python docker image: https://github.com/kaggle/docker-python\n",
    "# For example, here's several helpful packages to load in \n",
    "\n",
    "%pylab inline\n",
    "import pandas as pd # data processing, CSV file I/O (e.g. pd.read_csv)\n",
    "from itertools import combinations\n",
    "from numpy import array,array_equal\n",
    "\n",
    "from sklearn import cross_validation as cv\n",
    "from sklearn import tree\n",
    "from sklearn import metrics\n",
    "from sklearn import ensemble\n",
    "from sklearn import linear_model \n",
    "from sklearn import naive_bayes \n",
    "\n",
    "import xgboost as xgb\n",
    "\n",
    "\n",
    "# Input data files are available in the \"../input/\" directory.\n",
    "# For example, running this (by clicking run or pressing Shift+Enter) will list the files in the input directory\n",
    "\n",
    "\n",
    "from subprocess import check_output\n",
    "print check_output([\"ls\", \"./input\"]).decode(\"utf8\")\n",
    "\n",
    "\n",
    "# Any results you write to the current directory are saved as output.\n",
    "#def #print_shapes():\n",
    "    #print('Train: {}\\nTest: {}'.format(train_dataset.shape, test_dataset.shape))\n",
    "train_dataset = pd.read_csv('./input/train.csv', index_col='ID')\n",
    "test_dataset = pd.read_csv('./input/test.csv', index_col='ID')\n",
    "\n",
    "#print_shapes()\n",
    "# How many nulls are there in the datasets?\n",
    "nulls_train = (train_dataset.isnull().sum()==1).sum()\n",
    "nulls_test = (test_dataset.isnull().sum()==1).sum()\n",
    "#print('There are {} nulls in TRAIN and {} nulls in TEST dataset.'.format(nulls_train, nulls_test))\n",
    "# Remove constant features\n",
    "\n",
    "def identify_constant_features(dataframe):\n",
    "    count_uniques = dataframe.apply(lambda x: len(x.unique()))\n",
    "    constants = count_uniques[count_uniques == 1].index.tolist()\n",
    "    return constants\n",
    "\n",
    "constant_features_train = set(identify_constant_features(train_dataset))\n",
    "\n",
    "#print('There were {} constant features in TRAIN dataset.'.format(len(constant_features_train)))\n",
    "\n",
    "# Drop the constant features\n",
    "train_dataset.drop(constant_features_train, inplace=True, axis=1)\n",
    "\n",
    "\n",
    "#print_shapes()\n",
    "# Remove equals features\n",
    "\n",
    "def identify_equal_features(dataframe):\n",
    "    features_to_compare = list(combinations(dataframe.columns.tolist(),2))\n",
    "    equal_features = []\n",
    "    for compare in features_to_compare:\n",
    "        is_equal = array_equal(dataframe[compare[0]],dataframe[compare[1]])\n",
    "        if is_equal:\n",
    "            equal_features.append(list(compare))\n",
    "    return equal_features\n",
    "\n",
    "equal_features_train = identify_equal_features(train_dataset)\n",
    "\n",
    "#print('There were {} pairs of equal features in TRAIN dataset.'.format(len(equal_features_train)))\n",
    "\n",
    "# Remove the second feature of each pair.\n",
    "\n",
    "features_to_drop = array(equal_features_train)[:,1] \n",
    "train_dataset.drop(features_to_drop, axis=1, inplace=True)\n",
    "\n",
    "#print_shapes()\n",
    "# Define the variables model.\n",
    "\n",
    "y_name = 'TARGET'\n",
    "feature_names = train_dataset.columns.tolist()\n",
    "feature_names.remove(y_name)\n",
    "\n",
    "X = train_dataset[feature_names]\n",
    "y = train_dataset[y_name]\n",
    "\n",
    "# Save the features selected for later use.\n",
    "pd.Series(feature_names).to_csv('features_selected_step1.csv', index=False)\n",
    "#print('Features selected\\n{}'.format(feature_names))\n",
    "   \n",
    "    \n",
    "# Proportion of classes\n",
    "y.value_counts()/len(y)\n",
    "\n",
    "skf = cv.StratifiedKFold(y, n_folds=10, shuffle=True)\n",
    "score_metric = 'roc_auc'\n",
    "scores = {}\n",
    "\n",
    "def score_model(model):\n",
    "    return cv.cross_val_score(model, X, y, cv=skf, scoring=score_metric)\n",
    "\n",
    "clfxgb = xgb.XGBClassifier()\n",
    "clfxgb = clfxgb.fit(X, y)\n",
    "probxgb = clfxgb.predict(X)\n",
    "# #print 'XGB', np.shape(probxgb)\n",
    "print metrics.roc_auc_score(y, probxgb)"
   ]
  },
  {
   "cell_type": "code",
   "execution_count": 8,
   "metadata": {
    "collapsed": false
   },
   "outputs": [
    {
     "data": {
      "text/plain": [
       "array([ 0.83124251,  0.84162387,  0.83580491])"
      ]
     },
     "execution_count": 8,
     "metadata": {},
     "output_type": "execute_result"
    }
   ],
   "source": [
    "cv.cross_val_score(xgb.XGBClassifier(), X, y, cv=skf, scoring=score_metric)"
   ]
  },
  {
   "cell_type": "code",
   "execution_count": 20,
   "metadata": {
    "collapsed": false
   },
   "outputs": [
    {
     "name": "stdout",
     "output_type": "stream",
     "text": [
      "(53214, 306)\n",
      "(22806, 306)\n"
     ]
    }
   ],
   "source": [
    "from sklearn.cross_validation import train_test_split\n",
    "# shuffle and split training and test sets\n",
    "X_train, X_test, y_train, y_test = train_test_split(X, y, test_size=.3,random_state=1)\n",
    "\n",
    "from sklearn.preprocessing import StandardScaler\n",
    "scaler = StandardScaler()\n",
    "scaler.fit(X_train)  # Don't cheat - fit only on training data\n",
    "X_train = scaler.transform(X_train)\n",
    "X_test = scaler.transform(X_test)  # apply same transformation to test data\n",
    "print np.shape(X_train)\n",
    "print np.shape(X_test)"
   ]
  },
  {
   "cell_type": "code",
   "execution_count": 5,
   "metadata": {
    "collapsed": false
   },
   "outputs": [
    {
     "name": "stdout",
     "output_type": "stream",
     "text": [
      "0.501844744416\n"
     ]
    }
   ],
   "source": [
    "clfSGD = linear_model.LogisticRegression()\n",
    "clfSGD = clfSGD.fit(X_train, y_train)\n",
    "probSGD = clfSGD.predict(X_test)\n",
    "\n",
    "print metrics.roc_auc_score(y_test, probSGD)"
   ]
  },
  {
   "cell_type": "code",
   "execution_count": 21,
   "metadata": {
    "collapsed": false
   },
   "outputs": [
    {
     "name": "stdout",
     "output_type": "stream",
     "text": [
      "0.480562502742\n"
     ]
    },
    {
     "name": "stderr",
     "output_type": "stream",
     "text": [
      "/home/harsh/Projects/enviro/local/lib/python2.7/site-packages/sklearn/utils/__init__.py:93: DeprecationWarning: Function auc_score is deprecated; Function 'auc_score' has been renamed to 'roc_auc_score' and will be removed in release 0.16.\n",
      "  warnings.warn(msg, category=DeprecationWarning)\n"
     ]
    }
   ],
   "source": [
    "from sklearn.svm import LinearSVC\n",
    "model = LinearSVC()\n",
    "model.fit(X_train, y_train)\n",
    "baseline = metrics.roc_auc_score(model.predict(X_test), y_test)\n",
    "pred = model.predict(X_test)\n",
    "print baseline"
   ]
  },
  {
   "cell_type": "code",
   "execution_count": 22,
   "metadata": {
    "collapsed": false
   },
   "outputs": [
    {
     "data": {
      "text/plain": [
       "0.48056250274231055"
      ]
     },
     "execution_count": 22,
     "metadata": {},
     "output_type": "execute_result"
    }
   ],
   "source": [
    "metrics.roc_auc_score(pred, y_test)"
   ]
  },
  {
   "cell_type": "code",
   "execution_count": 13,
   "metadata": {
    "collapsed": false
   },
   "outputs": [
    {
     "name": "stdout",
     "output_type": "stream",
     "text": [
      "(75818, 306)\n"
     ]
    }
   ],
   "source": [
    "test_dataset.drop(constant_features_train, inplace=True, axis=1)\n",
    "test_dataset.drop(features_to_drop, axis=1, inplace=True)\n",
    "print test_dataset.shape"
   ]
  },
  {
   "cell_type": "code",
   "execution_count": 14,
   "metadata": {
    "collapsed": true
   },
   "outputs": [],
   "source": [
    "X_SubTest = test_dataset"
   ]
  },
  {
   "cell_type": "code",
   "execution_count": 16,
   "metadata": {
    "collapsed": false
   },
   "outputs": [],
   "source": [
    "df_test = pd.read_csv('./input/test.csv')\n",
    "id_test = df_test['ID']\n",
    "predTest = model.predict(X_SubTest)\n",
    "submission = pd.DataFrame({\"ID\":id_test, \"TARGET\":predTest})\n",
    "submission.to_csv(\"submission_svm_23-3.csv\", index=False)"
   ]
  },
  {
   "cell_type": "code",
   "execution_count": 23,
   "metadata": {
    "collapsed": false
   },
   "outputs": [
    {
     "data": {
      "image/png": "[encoded data removed]",
      "text/plain": [
       "<matplotlib.figure.Figure at 0x7f16727c4f50>"
      ]
     },
     "metadata": {},
     "output_type": "display_data"
    }
   ],
   "source": [
    "rf = ensemble.RandomForestClassifier(n_estimators=100)\n",
    "rf.fit(X, y)\n",
    "feat_imp = pd.Series(rf.feature_importances_, index=feature_names)\n",
    "feat_imp.sort_values(inplace=True)\n",
    "ax = feat_imp.tail(50).plot(kind='barh', figsize=(10,7), title='Feature importance')"
   ]
  },
  {
   "cell_type": "code",
   "execution_count": 31,
   "metadata": {
    "collapsed": false
   },
   "outputs": [
    {
     "name": "stdout",
     "output_type": "stream",
     "text": [
      "['saldo_medio_var12_hace2' 'saldo_medio_var8_hace3' 'num_var26_0'\n",
      " 'num_op_var41_hace3' 'saldo_medio_var12_ult3' 'num_op_var39_hace3'\n",
      " 'num_var12_0' 'saldo_var12' 'saldo_var13' 'ind_var10_ult1'\n",
      " 'num_trasp_var11_ult1' 'num_meses_var8_ult3' 'ind_var37_0'\n",
      " 'saldo_medio_var12_ult1' 'ind_var12_0' 'ind_var5_0' 'ind_var10cte_ult1'\n",
      " 'ind_var9_cte_ult1' 'ind_var9_ult1' 'ind_var37_cte' 'num_var8_0'\n",
      " 'ind_var39_0' 'saldo_var25' 'num_var42_0' 'num_var5_0' 'saldo_var26'\n",
      " 'ind_var41_0' 'ind_var43_emit_ult1' 'ind_var8_0' 'saldo_medio_var8_hace2'\n",
      " 'num_var30_0' 'ind_var43_recib_ult1' 'ind_var5' 'ind_var30'\n",
      " 'saldo_medio_var8_ult3' 'num_var5' 'num_op_var41_efect_ult1' 'num_var37_0'\n",
      " 'num_var37_med_ult2' 'num_var43_emit_ult1' 'num_var42'\n",
      " 'saldo_medio_var8_ult1' 'num_op_var39_efect_ult1' 'saldo_var8'\n",
      " 'num_var41_0' 'num_ent_var16_ult1' 'num_var39_0' 'num_var43_recib_ult1'\n",
      " 'num_op_var39_comer_ult1' 'num_op_var39_hace2' 'num_op_var41_efect_ult3'\n",
      " 'num_op_var41_comer_ult1' 'num_op_var41_hace2' 'num_op_var39_efect_ult3'\n",
      " 'imp_var43_emit_ult1' 'num_op_var41_ult1' 'num_op_var39_comer_ult3'\n",
      " 'num_op_var39_ult1' 'num_op_var41_comer_ult3' 'imp_ent_var16_ult1'\n",
      " 'imp_op_var39_efect_ult1' 'imp_op_var41_efect_ult1' 'num_var4' 'num_var35'\n",
      " 'num_op_var39_ult3' 'var3' 'num_op_var41_ult3' 'saldo_var37' 'num_var30'\n",
      " 'imp_op_var41_comer_ult1' 'imp_op_var39_comer_ult1'\n",
      " 'imp_op_var41_efect_ult3' 'imp_trans_var37_ult1' 'imp_op_var39_efect_ult3'\n",
      " 'imp_op_var41_ult1' 'imp_op_var41_comer_ult3' 'imp_op_var39_comer_ult3'\n",
      " 'imp_op_var39_ult1' 'num_med_var22_ult3' 'num_meses_var5_ult3'\n",
      " 'num_meses_var39_vig_ult3' 'num_var22_ult1' 'var36' 'num_var22_hace2'\n",
      " 'num_var22_hace3' 'num_med_var45_ult3' 'num_var45_ult1' 'saldo_var5'\n",
      " 'saldo_medio_var5_ult1' 'num_var22_ult3' 'saldo_var42' 'num_var45_hace2'\n",
      " 'num_var45_hace3' 'saldo_var30' 'saldo_medio_var5_hace2' 'num_var45_ult3'\n",
      " 'saldo_medio_var5_hace3' 'saldo_medio_var5_ult3' 'var15' 'var38']\n",
      "(76020, 100) (76020,)\n"
     ]
    }
   ],
   "source": [
    "important = feat_imp.tail(100).index\n",
    "features = np.array(important)\n",
    "print features\n",
    "\n",
    "X_new = train_dataset[features]\n",
    "y_new = train_dataset[y_name]\n",
    "print X_new.shape, y_new.shape"
   ]
  },
  {
   "cell_type": "code",
   "execution_count": 54,
   "metadata": {
    "collapsed": false
   },
   "outputs": [
    {
     "name": "stdout",
     "output_type": "stream",
     "text": [
      "0.499817518248\n"
     ]
    }
   ],
   "source": [
    "# shuffle and split training and test sets\n",
    "X_trN, X_teN, y_trN, y_teN = train_test_split(X_new, y_new, test_size=.3,random_state=1)\n",
    "\n",
    "clfSGD = linear_model.SGDClassifier()\n",
    "clfSGD = clfSGD.fit(X_trN,y_trN)\n",
    "probSGD = clfSGD.predict(X_teN)\n",
    "\n",
    "print metrics.roc_auc_score(y_teN, probSGD)"
   ]
  },
  {
   "cell_type": "code",
   "execution_count": 38,
   "metadata": {
    "collapsed": false
   },
   "outputs": [
    {
     "data": {
      "text/plain": [
       "array([ 0.84153502,  0.83480496,  0.84112198,  0.829429  ,  0.8471597 ,\n",
       "        0.82599093,  0.85574679,  0.83691557,  0.83142401,  0.84168904])"
      ]
     },
     "execution_count": 38,
     "metadata": {},
     "output_type": "execute_result"
    }
   ],
   "source": [
    "skf = cv.StratifiedKFold(y, n_folds=10, shuffle=True)\n",
    "score_metric = 'roc_auc'\n",
    "scores = {}\n",
    "\n",
    "cv.cross_val_score(xgb.XGBClassifier(),X_new, y_new, cv=skf, scoring=score_metric)"
   ]
  },
  {
   "cell_type": "code",
   "execution_count": 58,
   "metadata": {
    "collapsed": false,
    "scrolled": true
   },
   "outputs": [
    {
     "name": "stderr",
     "output_type": "stream",
     "text": [
      "Will train until validation_0 error hasn't decreased in 20 rounds.\n",
      "[0]\tvalidation_0-auc:0.797465\n",
      "[1]\tvalidation_0-auc:0.794732\n",
      "[2]\tvalidation_0-auc:0.796015\n",
      "[3]\tvalidation_0-auc:0.799482\n",
      "[4]\tvalidation_0-auc:0.787399\n",
      "[5]\tvalidation_0-auc:0.797476\n",
      "[6]\tvalidation_0-auc:0.783946\n",
      "[7]\tvalidation_0-auc:0.786602\n",
      "[8]\tvalidation_0-auc:0.787795\n",
      "[9]\tvalidation_0-auc:0.789137\n",
      "[10]\tvalidation_0-auc:0.793485\n",
      "[11]\tvalidation_0-auc:0.792247\n",
      "[12]\tvalidation_0-auc:0.795118\n",
      "[13]\tvalidation_0-auc:0.796812\n",
      "[14]\tvalidation_0-auc:0.799919\n",
      "[15]\tvalidation_0-auc:0.801726\n",
      "[16]\tvalidation_0-auc:0.802521\n",
      "[17]\tvalidation_0-auc:0.803336\n",
      "[18]\tvalidation_0-auc:0.804649\n",
      "[19]\tvalidation_0-auc:0.807931\n",
      "[20]\tvalidation_0-auc:0.803015\n",
      "[21]\tvalidation_0-auc:0.800399\n",
      "[22]\tvalidation_0-auc:0.800361\n",
      "[23]\tvalidation_0-auc:0.801902\n",
      "[24]\tvalidation_0-auc:0.803132\n",
      "[25]\tvalidation_0-auc:0.803856\n",
      "[26]\tvalidation_0-auc:0.805697\n",
      "[27]\tvalidation_0-auc:0.805807\n",
      "[28]\tvalidation_0-auc:0.807687\n",
      "[29]\tvalidation_0-auc:0.808526\n",
      "[30]\tvalidation_0-auc:0.809915\n",
      "[31]\tvalidation_0-auc:0.811057\n",
      "[32]\tvalidation_0-auc:0.811721\n",
      "[33]\tvalidation_0-auc:0.812599\n",
      "[34]\tvalidation_0-auc:0.813540\n",
      "[35]\tvalidation_0-auc:0.815752\n",
      "[36]\tvalidation_0-auc:0.816883\n",
      "[37]\tvalidation_0-auc:0.817603\n",
      "[38]\tvalidation_0-auc:0.818604\n",
      "[39]\tvalidation_0-auc:0.818580\n",
      "[40]\tvalidation_0-auc:0.818819\n",
      "[41]\tvalidation_0-auc:0.818882\n",
      "[42]\tvalidation_0-auc:0.818972\n",
      "[43]\tvalidation_0-auc:0.819333\n",
      "[44]\tvalidation_0-auc:0.820550\n",
      "[45]\tvalidation_0-auc:0.821477\n",
      "[46]\tvalidation_0-auc:0.821802\n",
      "[47]\tvalidation_0-auc:0.822342\n",
      "[48]\tvalidation_0-auc:0.822986\n",
      "[49]\tvalidation_0-auc:0.823688\n",
      "[50]\tvalidation_0-auc:0.824634\n",
      "[51]\tvalidation_0-auc:0.824528\n",
      "[52]\tvalidation_0-auc:0.824458\n",
      "[53]\tvalidation_0-auc:0.824878\n",
      "[54]\tvalidation_0-auc:0.824981\n",
      "[55]\tvalidation_0-auc:0.825600\n",
      "[56]\tvalidation_0-auc:0.825747\n",
      "[57]\tvalidation_0-auc:0.825768\n",
      "[58]\tvalidation_0-auc:0.826143\n",
      "[59]\tvalidation_0-auc:0.826644\n",
      "[60]\tvalidation_0-auc:0.826861\n",
      "[61]\tvalidation_0-auc:0.827027\n",
      "[62]\tvalidation_0-auc:0.827494\n",
      "[63]\tvalidation_0-auc:0.827361\n",
      "[64]\tvalidation_0-auc:0.827954\n",
      "[65]\tvalidation_0-auc:0.827824\n",
      "[66]\tvalidation_0-auc:0.828236\n",
      "[67]\tvalidation_0-auc:0.828592\n",
      "[68]\tvalidation_0-auc:0.828636\n",
      "[69]\tvalidation_0-auc:0.829103\n",
      "[70]\tvalidation_0-auc:0.829416\n",
      "[71]\tvalidation_0-auc:0.829852\n",
      "[72]\tvalidation_0-auc:0.829920\n",
      "[73]\tvalidation_0-auc:0.829947\n",
      "[74]\tvalidation_0-auc:0.830345\n",
      "[75]\tvalidation_0-auc:0.830337\n",
      "[76]\tvalidation_0-auc:0.830360\n",
      "[77]\tvalidation_0-auc:0.830997\n",
      "[78]\tvalidation_0-auc:0.830997\n",
      "[79]\tvalidation_0-auc:0.831240\n",
      "[80]\tvalidation_0-auc:0.831501\n",
      "[81]\tvalidation_0-auc:0.831654\n",
      "[82]\tvalidation_0-auc:0.831778\n",
      "[83]\tvalidation_0-auc:0.831822\n",
      "[84]\tvalidation_0-auc:0.831936\n",
      "[85]\tvalidation_0-auc:0.831892\n",
      "[86]\tvalidation_0-auc:0.832018\n",
      "[87]\tvalidation_0-auc:0.832034\n",
      "[88]\tvalidation_0-auc:0.832260\n",
      "[89]\tvalidation_0-auc:0.832480\n",
      "[90]\tvalidation_0-auc:0.832345\n",
      "[91]\tvalidation_0-auc:0.832460\n",
      "[92]\tvalidation_0-auc:0.832570\n",
      "[93]\tvalidation_0-auc:0.832724\n",
      "[94]\tvalidation_0-auc:0.832716\n",
      "[95]\tvalidation_0-auc:0.832830\n",
      "[96]\tvalidation_0-auc:0.832939\n",
      "[97]\tvalidation_0-auc:0.832946\n",
      "[98]\tvalidation_0-auc:0.833203\n",
      "[99]\tvalidation_0-auc:0.833108\n",
      "[100]\tvalidation_0-auc:0.833043\n",
      "[101]\tvalidation_0-auc:0.833055\n",
      "[102]\tvalidation_0-auc:0.833059\n",
      "[103]\tvalidation_0-auc:0.833098\n",
      "[104]\tvalidation_0-auc:0.833207\n",
      "[105]\tvalidation_0-auc:0.833236\n",
      "[106]\tvalidation_0-auc:0.833295\n",
      "[107]\tvalidation_0-auc:0.833357\n",
      "[108]\tvalidation_0-auc:0.833353\n",
      "[109]\tvalidation_0-auc:0.833600\n",
      "[110]\tvalidation_0-auc:0.833494\n",
      "[111]\tvalidation_0-auc:0.833428\n",
      "[112]\tvalidation_0-auc:0.833300\n",
      "[113]\tvalidation_0-auc:0.833347\n",
      "[114]\tvalidation_0-auc:0.833393\n",
      "[115]\tvalidation_0-auc:0.833332\n",
      "[116]\tvalidation_0-auc:0.833319\n",
      "[117]\tvalidation_0-auc:0.833366\n",
      "[118]\tvalidation_0-auc:0.833393\n",
      "[119]\tvalidation_0-auc:0.833366\n",
      "[120]\tvalidation_0-auc:0.833500\n",
      "[121]\tvalidation_0-auc:0.833457\n",
      "[122]\tvalidation_0-auc:0.833508\n",
      "[123]\tvalidation_0-auc:0.833347\n",
      "[124]\tvalidation_0-auc:0.833335\n",
      "[125]\tvalidation_0-auc:0.833401\n",
      "[126]\tvalidation_0-auc:0.833530\n",
      "[127]\tvalidation_0-auc:0.833568\n",
      "[128]\tvalidation_0-auc:0.833700\n",
      "[129]\tvalidation_0-auc:0.833634\n",
      "[130]\tvalidation_0-auc:0.833690\n",
      "[131]\tvalidation_0-auc:0.833737\n",
      "[132]\tvalidation_0-auc:0.833627\n",
      "[133]\tvalidation_0-auc:0.833561\n",
      "[134]\tvalidation_0-auc:0.833559\n",
      "[135]\tvalidation_0-auc:0.833507\n",
      "[136]\tvalidation_0-auc:0.833498\n",
      "[137]\tvalidation_0-auc:0.833540\n",
      "[138]\tvalidation_0-auc:0.833519\n",
      "[139]\tvalidation_0-auc:0.833382\n",
      "[140]\tvalidation_0-auc:0.833480\n",
      "[141]\tvalidation_0-auc:0.833456\n",
      "[142]\tvalidation_0-auc:0.833445\n",
      "[143]\tvalidation_0-auc:0.833622\n",
      "[144]\tvalidation_0-auc:0.833526\n",
      "[145]\tvalidation_0-auc:0.833544\n",
      "[146]\tvalidation_0-auc:0.833467\n",
      "[147]\tvalidation_0-auc:0.833366\n",
      "[148]\tvalidation_0-auc:0.833393\n",
      "[149]\tvalidation_0-auc:0.833370\n",
      "[150]\tvalidation_0-auc:0.833296\n"
     ]
    },
    {
     "name": "stdout",
     "output_type": "stream",
     "text": [
      "('Overall AUC:', 0.88340580920979861)\n"
     ]
    },
    {
     "name": "stderr",
     "output_type": "stream",
     "text": [
      "[151]\tvalidation_0-auc:0.833389\n",
      "Stopping. Best iteration:\n",
      "[131]\tvalidation_0-auc:0.833737\n",
      "\n"
     ]
    }
   ],
   "source": [
    "# classifier\n",
    "clf = xgb.XGBClassifier(missing=np.nan, max_depth=5, n_estimators=350, learning_rate=0.05, nthread=4, subsample=0.95, colsample_bytree=0.85, seed=4242)\n",
    "# fitting\n",
    "clf.fit(X_trN, y_trN, early_stopping_rounds=20, eval_metric=\"auc\", eval_set=[(X_teN, y_teN)])\n",
    "\n",
    "print('Overall AUC:', metrics.roc_auc_score(y_trN, clf.predict_proba(X_trN)[:,1]))\n"
   ]
  },
  {
   "cell_type": "code",
   "execution_count": 57,
   "metadata": {
    "collapsed": true
   },
   "outputs": [],
   "source": [
    "df_test = pd.read_csv('./input/test.csv')\n",
    "id_test = df_test['ID']\n",
    "predTest = clf.predict(X_SubTest)\n",
    "submission = pd.DataFrame({\"ID\":id_test, \"TARGET\":predTest})\n",
    "submission.to_csv(\"submission_xgb_24-3.csv\", index=False)"
   ]
  },
  {
   "cell_type": "code",
   "execution_count": 40,
   "metadata": {
    "collapsed": false
   },
   "outputs": [],
   "source": [
    "var38 = X[\"var38\"]\n",
    "var15 = X[\"var15\"]"
   ]
  },
  {
   "cell_type": "code",
   "execution_count": 41,
   "metadata": {
    "collapsed": false
   },
   "outputs": [
    {
     "data": {
      "text/plain": [
       "[<matplotlib.lines.Line2D at 0x7f1614f5efd0>]"
      ]
     },
     "execution_count": 41,
     "metadata": {},
     "output_type": "execute_result"
    },
    {
     "data": {
      "image/png": "[encoded data removed]",
      "text/plain": [
       "<matplotlib.figure.Figure at 0x7f163148e4d0>"
      ]
     },
     "metadata": {},
     "output_type": "display_data"
    }
   ],
   "source": [
    "plot(var38)"
   ]
  },
  {
   "cell_type": "code",
   "execution_count": 42,
   "metadata": {
    "collapsed": false
   },
   "outputs": [
    {
     "data": {
      "text/plain": [
       "[<matplotlib.lines.Line2D at 0x7f1614ec0350>]"
      ]
     },
     "execution_count": 42,
     "metadata": {},
     "output_type": "execute_result"
    },
    {
     "data": {
      "image/png": "[encoded data removed]",
      "text/plain": [
       "<matplotlib.figure.Figure at 0x7f16175df0d0>"
      ]
     },
     "metadata": {},
     "output_type": "display_data"
    }
   ],
   "source": [
    "plot(var15)"
   ]
  },
  {
   "cell_type": "code",
   "execution_count": null,
   "metadata": {
    "collapsed": true
   },
   "outputs": [],
   "source": []
  }
 ],
 "metadata": {
  "kernelspec": {
   "display_name": "Python 2",
   "language": "python",
   "name": "python2"
  },
  "language_info": {
   "codemirror_mode": {
    "name": "ipython",
    "version": 2
   },
   "file_extension": ".py",
   "mimetype": "text/x-python",
   "name": "python",
   "nbconvert_exporter": "python",
   "pygments_lexer": "ipython2",
   "version": "2.7.6"
  }
 },
 "nbformat": 4,
 "nbformat_minor": 0
}
