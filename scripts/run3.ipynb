{
 "cells": [
  {
   "cell_type": "code",
   "execution_count": 4,
   "metadata": {
    "collapsed": false
   },
   "outputs": [
    {
     "name": "stdout",
     "output_type": "stream",
     "text": [
      "Populating the interactive namespace from numpy and matplotlib\n",
      "test.csv\n",
      "train.csv\n",
      "\n",
      "0.502140359687\n"
     ]
    }
   ],
   "source": [
    "# THIS WAS MY FIRST SCRIPT AND IT HAS SOME FLAWS. \n",
    "# IT'S STILL HERE BECAUSE I GOT FOND OF IT.\n",
    "\n",
    "# This Python 3 environment comes with many helpful analytics libraries installed\n",
    "# It is defined by the kaggle/python docker image: https://github.com/kaggle/docker-python\n",
    "# For example, here's several helpful packages to load in \n",
    "\n",
    "%pylab inline\n",
    "import pandas as pd # data processing, CSV file I/O (e.g. pd.read_csv)\n",
    "from itertools import combinations\n",
    "from numpy import array,array_equal\n",
    "\n",
    "from sklearn import cross_validation as cv\n",
    "from sklearn import tree\n",
    "from sklearn import metrics\n",
    "from sklearn import ensemble\n",
    "from sklearn import linear_model \n",
    "from sklearn import naive_bayes \n",
    "\n",
    "import xgboost as xgb\n",
    "\n",
    "\n",
    "# Input data files are available in the \"../input/\" directory.\n",
    "# For example, running this (by clicking run or pressing Shift+Enter) will list the files in the input directory\n",
    "\n",
    "\n",
    "from subprocess import check_output\n",
    "print check_output([\"ls\", \"./input\"]).decode(\"utf8\")\n",
    "\n",
    "\n",
    "# Any results you write to the current directory are saved as output.\n",
    "#def #print_shapes():\n",
    "    #print('Train: {}\\nTest: {}'.format(train_dataset.shape, test_dataset.shape))\n",
    "train_dataset = pd.read_csv('./input/train.csv', index_col='ID')\n",
    "test_dataset = pd.read_csv('./input/test.csv', index_col='ID')\n",
    "\n",
    "#print_shapes()\n",
    "# How many nulls are there in the datasets?\n",
    "nulls_train = (train_dataset.isnull().sum()==1).sum()\n",
    "nulls_test = (test_dataset.isnull().sum()==1).sum()\n",
    "#print('There are {} nulls in TRAIN and {} nulls in TEST dataset.'.format(nulls_train, nulls_test))\n",
    "# Remove constant features\n",
    "\n",
    "def identify_constant_features(dataframe):\n",
    "    count_uniques = dataframe.apply(lambda x: len(x.unique()))\n",
    "    constants = count_uniques[count_uniques == 1].index.tolist()\n",
    "    return constants\n",
    "\n",
    "constant_features_train = set(identify_constant_features(train_dataset))\n",
    "\n",
    "#print('There were {} constant features in TRAIN dataset.'.format(len(constant_features_train)))\n",
    "\n",
    "# Drop the constant features\n",
    "train_dataset.drop(constant_features_train, inplace=True, axis=1)\n",
    "\n",
    "\n",
    "#print_shapes()\n",
    "# Remove equals features\n",
    "\n",
    "def identify_equal_features(dataframe):\n",
    "    features_to_compare = list(combinations(dataframe.columns.tolist(),2))\n",
    "    equal_features = []\n",
    "    for compare in features_to_compare:\n",
    "        is_equal = array_equal(dataframe[compare[0]],dataframe[compare[1]])\n",
    "        if is_equal:\n",
    "            equal_features.append(list(compare))\n",
    "    return equal_features\n",
    "\n",
    "equal_features_train = identify_equal_features(train_dataset)\n",
    "\n",
    "#print('There were {} pairs of equal features in TRAIN dataset.'.format(len(equal_features_train)))\n",
    "\n",
    "# Remove the second feature of each pair.\n",
    "\n",
    "features_to_drop = array(equal_features_train)[:,1] \n",
    "train_dataset.drop(features_to_drop, axis=1, inplace=True)\n",
    "\n",
    "#print_shapes()\n",
    "# Define the variables model.\n",
    "\n",
    "y_name = 'TARGET'\n",
    "feature_names = train_dataset.columns.tolist()\n",
    "feature_names.remove(y_name)\n",
    "\n",
    "X = train_dataset[feature_names]\n",
    "y = train_dataset[y_name]\n",
    "\n",
    "# Save the features selected for later use.\n",
    "pd.Series(feature_names).to_csv('features_selected_step1.csv', index=False)\n",
    "#print('Features selected\\n{}'.format(feature_names))\n",
    "   \n",
    "    \n",
    "# Proportion of classes\n",
    "y.value_counts()/len(y)\n",
    "\n",
    "skf = cv.StratifiedKFold(y, n_folds=10, shuffle=True)\n",
    "score_metric = 'roc_auc'\n",
    "scores = {}\n",
    "\n",
    "def score_model(model):\n",
    "    return cv.cross_val_score(model, X, y, cv=skf, scoring=score_metric)\n",
    "\n",
    "clfxgb = xgb.XGBClassifier()\n",
    "clfxgb = clfxgb.fit(X, y)\n",
    "probxgb = clfxgb.predict(X)\n",
    "# #print 'XGB', np.shape(probxgb)\n",
    "print metrics.roc_auc_score(y, probxgb)"
   ]
  },
  {
   "cell_type": "code",
   "execution_count": 5,
   "metadata": {
    "collapsed": false
   },
   "outputs": [
    {
     "ename": "KeyboardInterrupt",
     "evalue": "",
     "output_type": "error",
     "traceback": [
      "\u001b[1;31m---------------------------------------------------------------------------\u001b[0m",
      "\u001b[1;31mKeyboardInterrupt\u001b[0m                         Traceback (most recent call last)",
      "\u001b[1;32m<ipython-input-5-3e8dcdd786be>\u001b[0m in \u001b[0;36m<module>\u001b[1;34m()\u001b[0m\n\u001b[1;32m----> 1\u001b[1;33m \u001b[0mcv\u001b[0m\u001b[1;33m.\u001b[0m\u001b[0mcross_val_score\u001b[0m\u001b[1;33m(\u001b[0m\u001b[0mxgb\u001b[0m\u001b[1;33m.\u001b[0m\u001b[0mXGBClassifier\u001b[0m\u001b[1;33m(\u001b[0m\u001b[1;33m)\u001b[0m\u001b[1;33m,\u001b[0m \u001b[0mX\u001b[0m\u001b[1;33m,\u001b[0m \u001b[0my\u001b[0m\u001b[1;33m,\u001b[0m \u001b[0mcv\u001b[0m\u001b[1;33m=\u001b[0m\u001b[0mskf\u001b[0m\u001b[1;33m,\u001b[0m \u001b[0mscoring\u001b[0m\u001b[1;33m=\u001b[0m\u001b[0mscore_metric\u001b[0m\u001b[1;33m)\u001b[0m\u001b[1;33m\u001b[0m\u001b[0m\n\u001b[0m",
      "\u001b[1;32m/home/harsh/Projects/enviro/local/lib/python2.7/site-packages/sklearn/cross_validation.pyc\u001b[0m in \u001b[0;36mcross_val_score\u001b[1;34m(estimator, X, y, scoring, cv, n_jobs, verbose, fit_params, score_func, pre_dispatch)\u001b[0m\n\u001b[0;32m   1149\u001b[0m                                               \u001b[0mtrain\u001b[0m\u001b[1;33m,\u001b[0m \u001b[0mtest\u001b[0m\u001b[1;33m,\u001b[0m \u001b[0mverbose\u001b[0m\u001b[1;33m,\u001b[0m \u001b[0mNone\u001b[0m\u001b[1;33m,\u001b[0m\u001b[1;33m\u001b[0m\u001b[0m\n\u001b[0;32m   1150\u001b[0m                                               fit_params)\n\u001b[1;32m-> 1151\u001b[1;33m                       for train, test in cv)\n\u001b[0m\u001b[0;32m   1152\u001b[0m     \u001b[1;32mreturn\u001b[0m \u001b[0mnp\u001b[0m\u001b[1;33m.\u001b[0m\u001b[0marray\u001b[0m\u001b[1;33m(\u001b[0m\u001b[0mscores\u001b[0m\u001b[1;33m)\u001b[0m\u001b[1;33m[\u001b[0m\u001b[1;33m:\u001b[0m\u001b[1;33m,\u001b[0m \u001b[1;36m0\u001b[0m\u001b[1;33m]\u001b[0m\u001b[1;33m\u001b[0m\u001b[0m\n\u001b[0;32m   1153\u001b[0m \u001b[1;33m\u001b[0m\u001b[0m\n",
      "\u001b[1;32m/home/harsh/Projects/enviro/local/lib/python2.7/site-packages/sklearn/externals/joblib/parallel.pyc\u001b[0m in \u001b[0;36m__call__\u001b[1;34m(self, iterable)\u001b[0m\n\u001b[0;32m    651\u001b[0m             \u001b[0mself\u001b[0m\u001b[1;33m.\u001b[0m\u001b[0m_iterating\u001b[0m \u001b[1;33m=\u001b[0m \u001b[0mTrue\u001b[0m\u001b[1;33m\u001b[0m\u001b[0m\n\u001b[0;32m    652\u001b[0m             \u001b[1;32mfor\u001b[0m \u001b[0mfunction\u001b[0m\u001b[1;33m,\u001b[0m \u001b[0margs\u001b[0m\u001b[1;33m,\u001b[0m \u001b[0mkwargs\u001b[0m \u001b[1;32min\u001b[0m \u001b[0miterable\u001b[0m\u001b[1;33m:\u001b[0m\u001b[1;33m\u001b[0m\u001b[0m\n\u001b[1;32m--> 653\u001b[1;33m                 \u001b[0mself\u001b[0m\u001b[1;33m.\u001b[0m\u001b[0mdispatch\u001b[0m\u001b[1;33m(\u001b[0m\u001b[0mfunction\u001b[0m\u001b[1;33m,\u001b[0m \u001b[0margs\u001b[0m\u001b[1;33m,\u001b[0m \u001b[0mkwargs\u001b[0m\u001b[1;33m)\u001b[0m\u001b[1;33m\u001b[0m\u001b[0m\n\u001b[0m\u001b[0;32m    654\u001b[0m \u001b[1;33m\u001b[0m\u001b[0m\n\u001b[0;32m    655\u001b[0m             \u001b[1;32mif\u001b[0m \u001b[0mpre_dispatch\u001b[0m \u001b[1;33m==\u001b[0m \u001b[1;34m\"all\"\u001b[0m \u001b[1;32mor\u001b[0m \u001b[0mn_jobs\u001b[0m \u001b[1;33m==\u001b[0m \u001b[1;36m1\u001b[0m\u001b[1;33m:\u001b[0m\u001b[1;33m\u001b[0m\u001b[0m\n",
      "\u001b[1;32m/home/harsh/Projects/enviro/local/lib/python2.7/site-packages/sklearn/externals/joblib/parallel.pyc\u001b[0m in \u001b[0;36mdispatch\u001b[1;34m(self, func, args, kwargs)\u001b[0m\n\u001b[0;32m    398\u001b[0m         \"\"\"\n\u001b[0;32m    399\u001b[0m         \u001b[1;32mif\u001b[0m \u001b[0mself\u001b[0m\u001b[1;33m.\u001b[0m\u001b[0m_pool\u001b[0m \u001b[1;32mis\u001b[0m \u001b[0mNone\u001b[0m\u001b[1;33m:\u001b[0m\u001b[1;33m\u001b[0m\u001b[0m\n\u001b[1;32m--> 400\u001b[1;33m             \u001b[0mjob\u001b[0m \u001b[1;33m=\u001b[0m \u001b[0mImmediateApply\u001b[0m\u001b[1;33m(\u001b[0m\u001b[0mfunc\u001b[0m\u001b[1;33m,\u001b[0m \u001b[0margs\u001b[0m\u001b[1;33m,\u001b[0m \u001b[0mkwargs\u001b[0m\u001b[1;33m)\u001b[0m\u001b[1;33m\u001b[0m\u001b[0m\n\u001b[0m\u001b[0;32m    401\u001b[0m             \u001b[0mindex\u001b[0m \u001b[1;33m=\u001b[0m \u001b[0mlen\u001b[0m\u001b[1;33m(\u001b[0m\u001b[0mself\u001b[0m\u001b[1;33m.\u001b[0m\u001b[0m_jobs\u001b[0m\u001b[1;33m)\u001b[0m\u001b[1;33m\u001b[0m\u001b[0m\n\u001b[0;32m    402\u001b[0m             \u001b[1;32mif\u001b[0m \u001b[1;32mnot\u001b[0m \u001b[0m_verbosity_filter\u001b[0m\u001b[1;33m(\u001b[0m\u001b[0mindex\u001b[0m\u001b[1;33m,\u001b[0m \u001b[0mself\u001b[0m\u001b[1;33m.\u001b[0m\u001b[0mverbose\u001b[0m\u001b[1;33m)\u001b[0m\u001b[1;33m:\u001b[0m\u001b[1;33m\u001b[0m\u001b[0m\n",
      "\u001b[1;32m/home/harsh/Projects/enviro/local/lib/python2.7/site-packages/sklearn/externals/joblib/parallel.pyc\u001b[0m in \u001b[0;36m__init__\u001b[1;34m(self, func, args, kwargs)\u001b[0m\n\u001b[0;32m    136\u001b[0m         \u001b[1;31m# Don't delay the application, to avoid keeping the input\u001b[0m\u001b[1;33m\u001b[0m\u001b[1;33m\u001b[0m\u001b[0m\n\u001b[0;32m    137\u001b[0m         \u001b[1;31m# arguments in memory\u001b[0m\u001b[1;33m\u001b[0m\u001b[1;33m\u001b[0m\u001b[0m\n\u001b[1;32m--> 138\u001b[1;33m         \u001b[0mself\u001b[0m\u001b[1;33m.\u001b[0m\u001b[0mresults\u001b[0m \u001b[1;33m=\u001b[0m \u001b[0mfunc\u001b[0m\u001b[1;33m(\u001b[0m\u001b[1;33m*\u001b[0m\u001b[0margs\u001b[0m\u001b[1;33m,\u001b[0m \u001b[1;33m**\u001b[0m\u001b[0mkwargs\u001b[0m\u001b[1;33m)\u001b[0m\u001b[1;33m\u001b[0m\u001b[0m\n\u001b[0m\u001b[0;32m    139\u001b[0m \u001b[1;33m\u001b[0m\u001b[0m\n\u001b[0;32m    140\u001b[0m     \u001b[1;32mdef\u001b[0m \u001b[0mget\u001b[0m\u001b[1;33m(\u001b[0m\u001b[0mself\u001b[0m\u001b[1;33m)\u001b[0m\u001b[1;33m:\u001b[0m\u001b[1;33m\u001b[0m\u001b[0m\n",
      "\u001b[1;32m/home/harsh/Projects/enviro/local/lib/python2.7/site-packages/sklearn/cross_validation.pyc\u001b[0m in \u001b[0;36m_fit_and_score\u001b[1;34m(estimator, X, y, scorer, train, test, verbose, parameters, fit_params, return_train_score, return_parameters)\u001b[0m\n\u001b[0;32m   1237\u001b[0m         \u001b[0mestimator\u001b[0m\u001b[1;33m.\u001b[0m\u001b[0mfit\u001b[0m\u001b[1;33m(\u001b[0m\u001b[0mX_train\u001b[0m\u001b[1;33m,\u001b[0m \u001b[1;33m**\u001b[0m\u001b[0mfit_params\u001b[0m\u001b[1;33m)\u001b[0m\u001b[1;33m\u001b[0m\u001b[0m\n\u001b[0;32m   1238\u001b[0m     \u001b[1;32melse\u001b[0m\u001b[1;33m:\u001b[0m\u001b[1;33m\u001b[0m\u001b[0m\n\u001b[1;32m-> 1239\u001b[1;33m         \u001b[0mestimator\u001b[0m\u001b[1;33m.\u001b[0m\u001b[0mfit\u001b[0m\u001b[1;33m(\u001b[0m\u001b[0mX_train\u001b[0m\u001b[1;33m,\u001b[0m \u001b[0my_train\u001b[0m\u001b[1;33m,\u001b[0m \u001b[1;33m**\u001b[0m\u001b[0mfit_params\u001b[0m\u001b[1;33m)\u001b[0m\u001b[1;33m\u001b[0m\u001b[0m\n\u001b[0m\u001b[0;32m   1240\u001b[0m     \u001b[0mtest_score\u001b[0m \u001b[1;33m=\u001b[0m \u001b[0m_score\u001b[0m\u001b[1;33m(\u001b[0m\u001b[0mestimator\u001b[0m\u001b[1;33m,\u001b[0m \u001b[0mX_test\u001b[0m\u001b[1;33m,\u001b[0m \u001b[0my_test\u001b[0m\u001b[1;33m,\u001b[0m \u001b[0mscorer\u001b[0m\u001b[1;33m)\u001b[0m\u001b[1;33m\u001b[0m\u001b[0m\n\u001b[0;32m   1241\u001b[0m     \u001b[1;32mif\u001b[0m \u001b[0mreturn_train_score\u001b[0m\u001b[1;33m:\u001b[0m\u001b[1;33m\u001b[0m\u001b[0m\n",
      "\u001b[1;32m/home/harsh/Projects/enviro/local/lib/python2.7/site-packages/xgboost/sklearn.pyc\u001b[0m in \u001b[0;36mfit\u001b[1;34m(self, X, y, sample_weight, eval_set, eval_metric, early_stopping_rounds, verbose)\u001b[0m\n\u001b[0;32m    341\u001b[0m                               \u001b[0mearly_stopping_rounds\u001b[0m\u001b[1;33m=\u001b[0m\u001b[0mearly_stopping_rounds\u001b[0m\u001b[1;33m,\u001b[0m\u001b[1;33m\u001b[0m\u001b[0m\n\u001b[0;32m    342\u001b[0m                               \u001b[0mevals_result\u001b[0m\u001b[1;33m=\u001b[0m\u001b[0mevals_result\u001b[0m\u001b[1;33m,\u001b[0m \u001b[0mfeval\u001b[0m\u001b[1;33m=\u001b[0m\u001b[0mfeval\u001b[0m\u001b[1;33m,\u001b[0m\u001b[1;33m\u001b[0m\u001b[0m\n\u001b[1;32m--> 343\u001b[1;33m                               verbose_eval=verbose)\n\u001b[0m\u001b[0;32m    344\u001b[0m \u001b[1;33m\u001b[0m\u001b[0m\n\u001b[0;32m    345\u001b[0m         \u001b[1;32mif\u001b[0m \u001b[0mevals_result\u001b[0m\u001b[1;33m:\u001b[0m\u001b[1;33m\u001b[0m\u001b[0m\n",
      "\u001b[1;32m/home/harsh/Projects/enviro/local/lib/python2.7/site-packages/xgboost/training.pyc\u001b[0m in \u001b[0;36mtrain\u001b[1;34m(params, dtrain, num_boost_round, evals, obj, feval, maximize, early_stopping_rounds, evals_result, verbose_eval, learning_rates, xgb_model)\u001b[0m\n\u001b[0;32m    119\u001b[0m     \u001b[1;32mif\u001b[0m \u001b[1;32mnot\u001b[0m \u001b[0mearly_stopping_rounds\u001b[0m\u001b[1;33m:\u001b[0m\u001b[1;33m\u001b[0m\u001b[0m\n\u001b[0;32m    120\u001b[0m         \u001b[1;32mfor\u001b[0m \u001b[0mi\u001b[0m \u001b[1;32min\u001b[0m \u001b[0mrange\u001b[0m\u001b[1;33m(\u001b[0m\u001b[0mnum_boost_round\u001b[0m\u001b[1;33m)\u001b[0m\u001b[1;33m:\u001b[0m\u001b[1;33m\u001b[0m\u001b[0m\n\u001b[1;32m--> 121\u001b[1;33m             \u001b[0mbst\u001b[0m\u001b[1;33m.\u001b[0m\u001b[0mupdate\u001b[0m\u001b[1;33m(\u001b[0m\u001b[0mdtrain\u001b[0m\u001b[1;33m,\u001b[0m \u001b[0mi\u001b[0m\u001b[1;33m,\u001b[0m \u001b[0mobj\u001b[0m\u001b[1;33m)\u001b[0m\u001b[1;33m\u001b[0m\u001b[0m\n\u001b[0m\u001b[0;32m    122\u001b[0m             \u001b[0mnboost\u001b[0m \u001b[1;33m+=\u001b[0m \u001b[1;36m1\u001b[0m\u001b[1;33m\u001b[0m\u001b[0m\n\u001b[0;32m    123\u001b[0m             \u001b[1;32mif\u001b[0m \u001b[0mlen\u001b[0m\u001b[1;33m(\u001b[0m\u001b[0mevals\u001b[0m\u001b[1;33m)\u001b[0m \u001b[1;33m!=\u001b[0m \u001b[1;36m0\u001b[0m\u001b[1;33m:\u001b[0m\u001b[1;33m\u001b[0m\u001b[0m\n",
      "\u001b[1;32m/home/harsh/Projects/enviro/local/lib/python2.7/site-packages/xgboost/core.pyc\u001b[0m in \u001b[0;36mupdate\u001b[1;34m(self, dtrain, iteration, fobj)\u001b[0m\n\u001b[0;32m    692\u001b[0m \u001b[1;33m\u001b[0m\u001b[0m\n\u001b[0;32m    693\u001b[0m         \u001b[1;32mif\u001b[0m \u001b[0mfobj\u001b[0m \u001b[1;32mis\u001b[0m \u001b[0mNone\u001b[0m\u001b[1;33m:\u001b[0m\u001b[1;33m\u001b[0m\u001b[0m\n\u001b[1;32m--> 694\u001b[1;33m             \u001b[0m_check_call\u001b[0m\u001b[1;33m(\u001b[0m\u001b[0m_LIB\u001b[0m\u001b[1;33m.\u001b[0m\u001b[0mXGBoosterUpdateOneIter\u001b[0m\u001b[1;33m(\u001b[0m\u001b[0mself\u001b[0m\u001b[1;33m.\u001b[0m\u001b[0mhandle\u001b[0m\u001b[1;33m,\u001b[0m \u001b[0miteration\u001b[0m\u001b[1;33m,\u001b[0m \u001b[0mdtrain\u001b[0m\u001b[1;33m.\u001b[0m\u001b[0mhandle\u001b[0m\u001b[1;33m)\u001b[0m\u001b[1;33m)\u001b[0m\u001b[1;33m\u001b[0m\u001b[0m\n\u001b[0m\u001b[0;32m    695\u001b[0m         \u001b[1;32melse\u001b[0m\u001b[1;33m:\u001b[0m\u001b[1;33m\u001b[0m\u001b[0m\n\u001b[0;32m    696\u001b[0m             \u001b[0mpred\u001b[0m \u001b[1;33m=\u001b[0m \u001b[0mself\u001b[0m\u001b[1;33m.\u001b[0m\u001b[0mpredict\u001b[0m\u001b[1;33m(\u001b[0m\u001b[0mdtrain\u001b[0m\u001b[1;33m)\u001b[0m\u001b[1;33m\u001b[0m\u001b[0m\n",
      "\u001b[1;31mKeyboardInterrupt\u001b[0m: "
     ]
    }
   ],
   "source": [
    "cv.cross_val_score(xgb.XGBClassifier(), X, y, cv=skf, scoring=score_metric)"
   ]
  },
  {
   "cell_type": "code",
   "execution_count": 6,
   "metadata": {
    "collapsed": false
   },
   "outputs": [
    {
     "name": "stdout",
     "output_type": "stream",
     "text": [
      "(53214, 306)\n",
      "(22806, 306)\n"
     ]
    }
   ],
   "source": [
    "from sklearn.cross_validation import train_test_split\n",
    "# shuffle and split training and test sets\n",
    "X_train, X_test, y_train, y_test = train_test_split(X, y, test_size=.3,random_state=1)\n",
    "\n",
    "from sklearn.preprocessing import StandardScaler\n",
    "scaler = StandardScaler()\n",
    "scaler.fit(X_train)  # Don't cheat - fit only on training data\n",
    "X_train = scaler.transform(X_train)\n",
    "X_test = scaler.transform(X_test)  # apply same transformation to test data\n",
    "print np.shape(X_train)\n",
    "print np.shape(X_test)"
   ]
  },
  {
   "cell_type": "code",
   "execution_count": 7,
   "metadata": {
    "collapsed": false
   },
   "outputs": [
    {
     "name": "stdout",
     "output_type": "stream",
     "text": [
      "0.501373659192\n"
     ]
    }
   ],
   "source": [
    "clfSGD = linear_model.LogisticRegression()\n",
    "clfSGD = clfSGD.fit(X_train, y_train)\n",
    "probSGD = clfSGD.predict(X_test)\n",
    "\n",
    "print metrics.roc_auc_score(y_test, probSGD)"
   ]
  },
  {
   "cell_type": "code",
   "execution_count": 21,
   "metadata": {
    "collapsed": false
   },
   "outputs": [
    {
     "name": "stdout",
     "output_type": "stream",
     "text": [
      "0.480562502742\n"
     ]
    },
    {
     "name": "stderr",
     "output_type": "stream",
     "text": [
      "/home/harsh/Projects/enviro/local/lib/python2.7/site-packages/sklearn/utils/__init__.py:93: DeprecationWarning: Function auc_score is deprecated; Function 'auc_score' has been renamed to 'roc_auc_score' and will be removed in release 0.16.\n",
      "  warnings.warn(msg, category=DeprecationWarning)\n"
     ]
    }
   ],
   "source": [
    "from sklearn.svm import LinearSVC\n",
    "model = LinearSVC()\n",
    "model.fit(X_train, y_train)\n",
    "baseline = metrics.roc_auc_score(model.predict(X_test), y_test)\n",
    "pred = model.predict(X_test)\n",
    "print baseline"
   ]
  },
  {
   "cell_type": "code",
   "execution_count": 22,
   "metadata": {
    "collapsed": false
   },
   "outputs": [
    {
     "data": {
      "text/plain": [
       "0.48056250274231055"
      ]
     },
     "execution_count": 22,
     "metadata": {},
     "output_type": "execute_result"
    }
   ],
   "source": [
    "metrics.roc_auc_score(pred, y_test)"
   ]
  },
  {
   "cell_type": "code",
   "execution_count": 8,
   "metadata": {
    "collapsed": false
   },
   "outputs": [
    {
     "name": "stdout",
     "output_type": "stream",
     "text": [
      "(75818, 306)\n"
     ]
    }
   ],
   "source": [
    "test_dataset.drop(constant_features_train, inplace=True, axis=1)\n",
    "test_dataset.drop(features_to_drop, axis=1, inplace=True)\n",
    "print test_dataset.shape"
   ]
  },
  {
   "cell_type": "code",
   "execution_count": 9,
   "metadata": {
    "collapsed": true
   },
   "outputs": [],
   "source": [
    "X_SubTest = test_dataset"
   ]
  },
  {
   "cell_type": "code",
   "execution_count": 10,
   "metadata": {
    "collapsed": false
   },
   "outputs": [
    {
     "ename": "NameError",
     "evalue": "name 'model' is not defined",
     "output_type": "error",
     "traceback": [
      "\u001b[1;31m---------------------------------------------------------------------------\u001b[0m",
      "\u001b[1;31mNameError\u001b[0m                                 Traceback (most recent call last)",
      "\u001b[1;32m<ipython-input-10-d7c4fef26b8c>\u001b[0m in \u001b[0;36m<module>\u001b[1;34m()\u001b[0m\n\u001b[0;32m      1\u001b[0m \u001b[0mdf_test\u001b[0m \u001b[1;33m=\u001b[0m \u001b[0mpd\u001b[0m\u001b[1;33m.\u001b[0m\u001b[0mread_csv\u001b[0m\u001b[1;33m(\u001b[0m\u001b[1;34m'./input/test.csv'\u001b[0m\u001b[1;33m)\u001b[0m\u001b[1;33m\u001b[0m\u001b[0m\n\u001b[0;32m      2\u001b[0m \u001b[0mid_test\u001b[0m \u001b[1;33m=\u001b[0m \u001b[0mdf_test\u001b[0m\u001b[1;33m[\u001b[0m\u001b[1;34m'ID'\u001b[0m\u001b[1;33m]\u001b[0m\u001b[1;33m\u001b[0m\u001b[0m\n\u001b[1;32m----> 3\u001b[1;33m \u001b[0mpredTest\u001b[0m \u001b[1;33m=\u001b[0m \u001b[0mmodel\u001b[0m\u001b[1;33m.\u001b[0m\u001b[0mpredict\u001b[0m\u001b[1;33m(\u001b[0m\u001b[0mX_SubTest\u001b[0m\u001b[1;33m)\u001b[0m\u001b[1;33m\u001b[0m\u001b[0m\n\u001b[0m\u001b[0;32m      4\u001b[0m \u001b[0msubmission\u001b[0m \u001b[1;33m=\u001b[0m \u001b[0mpd\u001b[0m\u001b[1;33m.\u001b[0m\u001b[0mDataFrame\u001b[0m\u001b[1;33m(\u001b[0m\u001b[1;33m{\u001b[0m\u001b[1;34m\"ID\"\u001b[0m\u001b[1;33m:\u001b[0m\u001b[0mid_test\u001b[0m\u001b[1;33m,\u001b[0m \u001b[1;34m\"TARGET\"\u001b[0m\u001b[1;33m:\u001b[0m\u001b[0mpredTest\u001b[0m\u001b[1;33m}\u001b[0m\u001b[1;33m)\u001b[0m\u001b[1;33m\u001b[0m\u001b[0m\n\u001b[0;32m      5\u001b[0m \u001b[0msubmission\u001b[0m\u001b[1;33m.\u001b[0m\u001b[0mto_csv\u001b[0m\u001b[1;33m(\u001b[0m\u001b[1;34m\"submission_svm_23-3.csv\"\u001b[0m\u001b[1;33m,\u001b[0m \u001b[0mindex\u001b[0m\u001b[1;33m=\u001b[0m\u001b[0mFalse\u001b[0m\u001b[1;33m)\u001b[0m\u001b[1;33m\u001b[0m\u001b[0m\n",
      "\u001b[1;31mNameError\u001b[0m: name 'model' is not defined"
     ]
    }
   ],
   "source": [
    "df_test = pd.read_csv('./input/test.csv')\n",
    "id_test = df_test['ID']\n",
    "predTest = model.predict(X_SubTest)\n",
    "submission = pd.DataFrame({\"ID\":id_test, \"TARGET\":predTest})\n",
    "submission.to_csv(\"submission_svm_23-3.csv\", index=False)"
   ]
  },
  {
   "cell_type": "code",
   "execution_count": 11,
   "metadata": {
    "collapsed": false
   },
   "outputs": [
    {
     "data": {
      "image/png": "[encoded data removed]",
      "text/plain": [
       "<matplotlib.figure.Figure at 0x7f2ce562a050>"
      ]
     },
     "metadata": {},
     "output_type": "display_data"
    }
   ],
   "source": [
    "rf = ensemble.RandomForestClassifier(n_estimators=100)\n",
    "rf.fit(X, y)\n",
    "feat_imp = pd.Series(rf.feature_importances_, index=feature_names)\n",
    "feat_imp.sort_values(inplace=True)\n",
    "ax = feat_imp.tail(50).plot(kind='barh', figsize=(10,7), title='Feature importance')"
   ]
  },
  {
   "cell_type": "code",
   "execution_count": 12,
   "metadata": {
    "collapsed": false
   },
   "outputs": [
    {
     "name": "stdout",
     "output_type": "stream",
     "text": [
      "['saldo_medio_var13_corto_hace2' 'num_var25_0' 'num_var12_0'\n",
      " 'num_op_var41_hace3' 'saldo_medio_var13_corto_ult3'\n",
      " 'saldo_medio_var12_ult1' 'saldo_medio_var12_ult3' 'num_op_var39_hace3'\n",
      " 'ind_var12_0' 'ind_var5_0' 'saldo_var13' 'num_trasp_var11_ult1'\n",
      " 'ind_var10_ult1' 'saldo_var12' 'num_meses_var8_ult3' 'ind_var37_0'\n",
      " 'ind_var10cte_ult1' 'ind_var9_cte_ult1' 'ind_var9_ult1' 'ind_var5'\n",
      " 'ind_var37_cte' 'ind_var8_0' 'ind_var39_0' 'saldo_var25' 'num_var8_0'\n",
      " 'ind_var41_0' 'num_var42_0' 'ind_var43_emit_ult1' 'num_var5_0'\n",
      " 'num_var30_0' 'saldo_medio_var8_hace2' 'saldo_var26'\n",
      " 'ind_var43_recib_ult1' 'num_var5' 'num_op_var39_efect_ult1' 'num_var42'\n",
      " 'num_var39_0' 'num_op_var41_efect_ult1' 'num_var37_med_ult2' 'num_var37_0'\n",
      " 'saldo_medio_var8_ult1' 'num_ent_var16_ult1' 'num_var41_0'\n",
      " 'saldo_medio_var8_ult3' 'num_var43_emit_ult1' 'saldo_var8'\n",
      " 'num_op_var41_comer_ult1' 'num_op_var39_comer_ult1'\n",
      " 'num_op_var39_efect_ult3' 'num_var43_recib_ult1' 'ind_var30'\n",
      " 'num_op_var41_hace2' 'num_op_var41_efect_ult3' 'num_op_var39_hace2'\n",
      " 'imp_var43_emit_ult1' 'num_op_var41_ult1' 'num_op_var39_ult1' 'num_var35'\n",
      " 'num_op_var41_comer_ult3' 'num_op_var39_comer_ult3' 'imp_ent_var16_ult1'\n",
      " 'num_var30' 'imp_op_var39_efect_ult1' 'imp_op_var41_efect_ult1'\n",
      " 'imp_op_var41_comer_ult1' 'saldo_var37' 'imp_trans_var37_ult1'\n",
      " 'num_op_var41_ult3' 'var3' 'num_var4' 'imp_op_var39_comer_ult1'\n",
      " 'num_op_var39_ult3' 'imp_op_var41_efect_ult3' 'imp_op_var39_efect_ult3'\n",
      " 'imp_op_var41_comer_ult3' 'imp_op_var39_comer_ult3' 'imp_op_var41_ult1'\n",
      " 'imp_op_var39_ult1' 'num_med_var22_ult3' 'num_meses_var5_ult3'\n",
      " 'num_meses_var39_vig_ult3' 'num_var22_ult1' 'var36' 'num_var22_hace2'\n",
      " 'num_med_var45_ult3' 'num_var22_hace3' 'num_var45_ult1' 'saldo_var5'\n",
      " 'saldo_medio_var5_ult1' 'num_var22_ult3' 'num_var45_hace2' 'saldo_var42'\n",
      " 'num_var45_hace3' 'saldo_var30' 'saldo_medio_var5_hace2' 'num_var45_ult3'\n",
      " 'saldo_medio_var5_hace3' 'saldo_medio_var5_ult3' 'var15' 'var38']\n",
      "(76020, 100) (76020,)\n"
     ]
    }
   ],
   "source": [
    "important = feat_imp.tail(100).index\n",
    "features = np.array(important)\n",
    "print features\n",
    "\n",
    "X_new = train_dataset[features]\n",
    "y_new = train_dataset[y_name]\n",
    "print X_new.shape, y_new.shape"
   ]
  },
  {
   "cell_type": "code",
   "execution_count": 13,
   "metadata": {
    "collapsed": false
   },
   "outputs": [
    {
     "name": "stdout",
     "output_type": "stream",
     "text": [
      "0.506355503699\n"
     ]
    }
   ],
   "source": [
    "# shuffle and split training and test sets\n",
    "X_trN, X_teN, y_trN, y_teN = train_test_split(X_new, y_new, test_size=.3,random_state=1)\n",
    "\n",
    "clfSGD = linear_model.SGDClassifier()\n",
    "clfSGD = clfSGD.fit(X_trN,y_trN)\n",
    "probSGD = clfSGD.predict(X_teN)\n",
    "\n",
    "print metrics.roc_auc_score(y_teN, probSGD)"
   ]
  },
  {
   "cell_type": "code",
   "execution_count": 14,
   "metadata": {
    "collapsed": false
   },
   "outputs": [
    {
     "data": {
      "text/plain": [
       "array([ 0.8355393 ,  0.84220771,  0.84851345,  0.82476687,  0.83992977,\n",
       "        0.84490679,  0.83165188,  0.84902855,  0.84595033,  0.82788933])"
      ]
     },
     "execution_count": 14,
     "metadata": {},
     "output_type": "execute_result"
    }
   ],
   "source": [
    "skf = cv.StratifiedKFold(y, n_folds=10, shuffle=True)\n",
    "score_metric = 'roc_auc'\n",
    "scores = {}\n",
    "\n",
    "cv.cross_val_score(xgb.XGBClassifier(),X_new, y_new, cv=skf, scoring=score_metric)"
   ]
  },
  {
   "cell_type": "code",
   "execution_count": 15,
   "metadata": {
    "collapsed": false,
    "scrolled": true
   },
   "outputs": [
    {
     "name": "stderr",
     "output_type": "stream",
     "text": [
      "Will train until validation_0 error hasn't decreased in 20 rounds.\n",
      "[0]\tvalidation_0-auc:0.798142\n",
      "[1]\tvalidation_0-auc:0.801586\n",
      "[2]\tvalidation_0-auc:0.802221\n",
      "[3]\tvalidation_0-auc:0.785652\n",
      "[4]\tvalidation_0-auc:0.790043\n",
      "[5]\tvalidation_0-auc:0.799475\n",
      "[6]\tvalidation_0-auc:0.801749\n",
      "[7]\tvalidation_0-auc:0.800416\n",
      "[8]\tvalidation_0-auc:0.801905\n",
      "[9]\tvalidation_0-auc:0.797836\n",
      "[10]\tvalidation_0-auc:0.799784\n",
      "[11]\tvalidation_0-auc:0.797799\n",
      "[12]\tvalidation_0-auc:0.797979\n",
      "[13]\tvalidation_0-auc:0.792577\n",
      "[14]\tvalidation_0-auc:0.794911\n",
      "[15]\tvalidation_0-auc:0.797882\n",
      "[16]\tvalidation_0-auc:0.799015\n",
      "[17]\tvalidation_0-auc:0.799619\n",
      "[18]\tvalidation_0-auc:0.800961\n",
      "[19]\tvalidation_0-auc:0.801283\n",
      "[20]\tvalidation_0-auc:0.802156\n",
      "[21]\tvalidation_0-auc:0.803729\n",
      "[22]\tvalidation_0-auc:0.805169\n",
      "[23]\tvalidation_0-auc:0.806568\n",
      "[24]\tvalidation_0-auc:0.808504\n",
      "[25]\tvalidation_0-auc:0.809938\n",
      "[26]\tvalidation_0-auc:0.811093\n",
      "[27]\tvalidation_0-auc:0.812123\n",
      "[28]\tvalidation_0-auc:0.811992\n",
      "[29]\tvalidation_0-auc:0.813127\n",
      "[30]\tvalidation_0-auc:0.814073\n",
      "[31]\tvalidation_0-auc:0.814488\n",
      "[32]\tvalidation_0-auc:0.816575\n",
      "[33]\tvalidation_0-auc:0.817097\n",
      "[34]\tvalidation_0-auc:0.817505\n",
      "[35]\tvalidation_0-auc:0.818105\n",
      "[36]\tvalidation_0-auc:0.818735\n",
      "[37]\tvalidation_0-auc:0.818601\n",
      "[38]\tvalidation_0-auc:0.819344\n",
      "[39]\tvalidation_0-auc:0.820152\n",
      "[40]\tvalidation_0-auc:0.820756\n",
      "[41]\tvalidation_0-auc:0.821471\n",
      "[42]\tvalidation_0-auc:0.822535\n",
      "[43]\tvalidation_0-auc:0.822839\n",
      "[44]\tvalidation_0-auc:0.823035\n",
      "[45]\tvalidation_0-auc:0.823760\n",
      "[46]\tvalidation_0-auc:0.824079\n",
      "[47]\tvalidation_0-auc:0.824989\n",
      "[48]\tvalidation_0-auc:0.825437\n",
      "[49]\tvalidation_0-auc:0.825800\n",
      "[50]\tvalidation_0-auc:0.826299\n",
      "[51]\tvalidation_0-auc:0.826651\n",
      "[52]\tvalidation_0-auc:0.826976\n",
      "[53]\tvalidation_0-auc:0.827305\n",
      "[54]\tvalidation_0-auc:0.827593\n",
      "[55]\tvalidation_0-auc:0.828677\n",
      "[56]\tvalidation_0-auc:0.829550\n",
      "[57]\tvalidation_0-auc:0.829853\n",
      "[58]\tvalidation_0-auc:0.830092\n",
      "[59]\tvalidation_0-auc:0.830342\n",
      "[60]\tvalidation_0-auc:0.830576\n",
      "[61]\tvalidation_0-auc:0.830906\n",
      "[62]\tvalidation_0-auc:0.830389\n",
      "[63]\tvalidation_0-auc:0.830708\n",
      "[64]\tvalidation_0-auc:0.831256\n",
      "[65]\tvalidation_0-auc:0.831609\n",
      "[66]\tvalidation_0-auc:0.831895\n",
      "[67]\tvalidation_0-auc:0.832154\n",
      "[68]\tvalidation_0-auc:0.832246\n",
      "[69]\tvalidation_0-auc:0.832432\n",
      "[70]\tvalidation_0-auc:0.832518\n",
      "[71]\tvalidation_0-auc:0.832763\n",
      "[72]\tvalidation_0-auc:0.832986\n",
      "[73]\tvalidation_0-auc:0.833289\n",
      "[74]\tvalidation_0-auc:0.833572\n",
      "[75]\tvalidation_0-auc:0.833450\n",
      "[76]\tvalidation_0-auc:0.833774\n",
      "[77]\tvalidation_0-auc:0.833709\n",
      "[78]\tvalidation_0-auc:0.833898\n",
      "[79]\tvalidation_0-auc:0.833955\n",
      "[80]\tvalidation_0-auc:0.833997\n",
      "[81]\tvalidation_0-auc:0.834023\n",
      "[82]\tvalidation_0-auc:0.834019\n",
      "[83]\tvalidation_0-auc:0.833989\n",
      "[84]\tvalidation_0-auc:0.834126\n",
      "[85]\tvalidation_0-auc:0.834536\n",
      "[86]\tvalidation_0-auc:0.834597\n",
      "[87]\tvalidation_0-auc:0.834707\n",
      "[88]\tvalidation_0-auc:0.834901\n",
      "[89]\tvalidation_0-auc:0.834953\n",
      "[90]\tvalidation_0-auc:0.835265\n",
      "[91]\tvalidation_0-auc:0.835440\n",
      "[92]\tvalidation_0-auc:0.835416\n",
      "[93]\tvalidation_0-auc:0.835533\n",
      "[94]\tvalidation_0-auc:0.835613\n",
      "[95]\tvalidation_0-auc:0.835530\n",
      "[96]\tvalidation_0-auc:0.835455\n",
      "[97]\tvalidation_0-auc:0.835400\n",
      "[98]\tvalidation_0-auc:0.835481\n",
      "[99]\tvalidation_0-auc:0.835465\n",
      "[100]\tvalidation_0-auc:0.835423\n",
      "[101]\tvalidation_0-auc:0.835573\n",
      "[102]\tvalidation_0-auc:0.835562\n",
      "[103]\tvalidation_0-auc:0.835570\n",
      "[104]\tvalidation_0-auc:0.835598\n",
      "[105]\tvalidation_0-auc:0.835608\n",
      "[106]\tvalidation_0-auc:0.835663\n",
      "[107]\tvalidation_0-auc:0.835598\n",
      "[108]\tvalidation_0-auc:0.835575\n",
      "[109]\tvalidation_0-auc:0.835756\n",
      "[110]\tvalidation_0-auc:0.835649\n",
      "[111]\tvalidation_0-auc:0.835566\n",
      "[112]\tvalidation_0-auc:0.835653\n",
      "[113]\tvalidation_0-auc:0.835743\n",
      "[114]\tvalidation_0-auc:0.835755\n",
      "[115]\tvalidation_0-auc:0.835885\n",
      "[116]\tvalidation_0-auc:0.835927\n",
      "[117]\tvalidation_0-auc:0.835755\n",
      "[118]\tvalidation_0-auc:0.835850\n",
      "[119]\tvalidation_0-auc:0.835761\n",
      "[120]\tvalidation_0-auc:0.835708\n",
      "[121]\tvalidation_0-auc:0.835852\n",
      "[122]\tvalidation_0-auc:0.835748\n",
      "[123]\tvalidation_0-auc:0.835758\n",
      "[124]\tvalidation_0-auc:0.835776\n",
      "[125]\tvalidation_0-auc:0.835732\n",
      "[126]\tvalidation_0-auc:0.835793\n",
      "[127]\tvalidation_0-auc:0.835845\n",
      "[128]\tvalidation_0-auc:0.835634\n",
      "[129]\tvalidation_0-auc:0.835704\n",
      "[130]\tvalidation_0-auc:0.835654\n",
      "[131]\tvalidation_0-auc:0.835684\n",
      "[132]\tvalidation_0-auc:0.835670\n",
      "[133]\tvalidation_0-auc:0.835585\n",
      "[134]\tvalidation_0-auc:0.835540\n",
      "[135]\tvalidation_0-auc:0.835494\n",
      "[136]\tvalidation_0-auc:0.835419\n"
     ]
    },
    {
     "name": "stdout",
     "output_type": "stream",
     "text": [
      "('Overall AUC:', 0.87865717259095288)\n"
     ]
    },
    {
     "name": "stderr",
     "output_type": "stream",
     "text": [
      "Stopping. Best iteration:\n",
      "[116]\tvalidation_0-auc:0.835927\n",
      "\n"
     ]
    }
   ],
   "source": [
    "# classifier\n",
    "clf = xgb.XGBClassifier(missing=np.nan, max_depth=5, n_estimators=350, learning_rate=0.05, nthread=4, subsample=0.95, colsample_bytree=0.85, seed=4242)\n",
    "# fitting\n",
    "clf.fit(X_trN, y_trN, early_stopping_rounds=20, eval_metric=\"auc\", eval_set=[(X_teN, y_teN)])\n",
    "\n",
    "print('Overall AUC:', metrics.roc_auc_score(y_trN, clf.predict_proba(X_trN)[:,1]))\n"
   ]
  },
  {
   "cell_type": "code",
   "execution_count": 17,
   "metadata": {
    "collapsed": false
   },
   "outputs": [],
   "source": [
    "df_test = pd.read_csv('./input/test.csv')\n",
    "id_test = df_test['ID']\n",
    "predTest = clf.predict_proba(X_SubTest)[:,1]\n",
    "submission = pd.DataFrame({\"ID\":id_test, \"TARGET\":predTest})\n",
    "submission.to_csv(\"submission_xgb_25-3.csv\", index=False)"
   ]
  },
  {
   "cell_type": "code",
   "execution_count": 40,
   "metadata": {
    "collapsed": false
   },
   "outputs": [],
   "source": [
    "var38 = X[\"var38\"]\n",
    "var15 = X[\"var15\"]"
   ]
  },
  {
   "cell_type": "code",
   "execution_count": 41,
   "metadata": {
    "collapsed": false
   },
   "outputs": [
    {
     "data": {
      "text/plain": [
       "[<matplotlib.lines.Line2D at 0x7f1614f5efd0>]"
      ]
     },
     "execution_count": 41,
     "metadata": {},
     "output_type": "execute_result"
    },
    {
     "data": {
      "image/png": "[encoded data removed]",
      "text/plain": [
       "<matplotlib.figure.Figure at 0x7f163148e4d0>"
      ]
     },
     "metadata": {},
     "output_type": "display_data"
    }
   ],
   "source": [
    "plot(var38)"
   ]
  },
  {
   "cell_type": "code",
   "execution_count": 42,
   "metadata": {
    "collapsed": false
   },
   "outputs": [
    {
     "data": {
      "text/plain": [
       "[<matplotlib.lines.Line2D at 0x7f1614ec0350>]"
      ]
     },
     "execution_count": 42,
     "metadata": {},
     "output_type": "execute_result"
    },
    {
     "data": {
      "image/png": "[encoded data removed]",
      "text/plain": [
       "<matplotlib.figure.Figure at 0x7f16175df0d0>"
      ]
     },
     "metadata": {},
     "output_type": "display_data"
    }
   ],
   "source": [
    "plot(var15)"
   ]
  },
  {
   "cell_type": "code",
   "execution_count": null,
   "metadata": {
    "collapsed": true
   },
   "outputs": [],
   "source": []
  }
 ],
 "metadata": {
  "kernelspec": {
   "display_name": "Python 2",
   "language": "python",
   "name": "python2"
  },
  "language_info": {
   "codemirror_mode": {
    "name": "ipython",
    "version": 2
   },
   "file_extension": ".py",
   "mimetype": "text/x-python",
   "name": "python",
   "nbconvert_exporter": "python",
   "pygments_lexer": "ipython2",
   "version": "2.7.6"
  }
 },
 "nbformat": 4,
 "nbformat_minor": 0
}
