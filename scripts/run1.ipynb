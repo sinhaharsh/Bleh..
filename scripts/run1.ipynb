{
 "cells": [
  {
   "cell_type": "code",
   "execution_count": 1,
   "metadata": {
    "collapsed": false
   },
   "outputs": [],
   "source": [
    "import pandas as pd"
   ]
  },
  {
   "cell_type": "code",
   "execution_count": 4,
   "metadata": {
    "collapsed": false
   },
   "outputs": [
    {
     "name": "stdout",
     "output_type": "stream",
     "text": [
      "Populating the interactive namespace from numpy and matplotlib\n",
      "test.csv\n",
      "train.csv\n",
      "\n"
     ]
    }
   ],
   "source": [
    "# This Python 3 environment comes with many helpful analytics libraries installed\n",
    "# It is defined by the kaggle/python docker image: https://github.com/kaggle/docker-python\n",
    "# For example, here's several helpful packages to load in \n",
    "\n",
    "%pylab inline\n",
    "import pandas as pd # data processing, CSV file I/O (e.g. pd.read_csv)\n",
    "from itertools import combinations\n",
    "from numpy import array,array_equal\n",
    "\n",
    "from sklearn import cross_validation as cv\n",
    "from sklearn import tree\n",
    "from sklearn import metrics\n",
    "from sklearn import ensemble\n",
    "from sklearn import linear_model \n",
    "from sklearn import naive_bayes \n",
    "\n",
    "import xgboost as xgb\n",
    "\n",
    "\n",
    "# Input data files are available in the \"../input/\" directory.\n",
    "# For example, running this (by clicking run or pressing Shift+Enter) will list the files in the input directory\n",
    "\n",
    "\n",
    "from subprocess import check_output\n",
    "print check_output([\"ls\", \"./input\"]).decode(\"utf8\")\n",
    "\n",
    "\n",
    "# Any results you write to the current directory are saved as output.\n",
    "def print_shapes():\n",
    "    print 'Train: {}\\nTest: {}'.format(train_dataset.shape, test_dataset.shape)\n",
    "    \n",
    "train_dataset = pd.read_csv('./input/train.csv', index_col='ID')\n",
    "test_dataset = pd.read_csv('./input/test.csv', index_col='ID')\n",
    "\n"
   ]
  },
  {
   "cell_type": "code",
   "execution_count": 27,
   "metadata": {
    "collapsed": false
   },
   "outputs": [
    {
     "name": "stdout",
     "output_type": "stream",
     "text": [
      "Train: (76020, 307)\n",
      "Test: (75818, 306)\n",
      "There are 0 nulls in TRAIN and 0 nulls in TEST dataset.\n",
      "Train: (76020, 307)\n",
      "Test: (75818, 306)\n",
      "There were 0 pairs of equal features in TRAIN dataset.\n",
      "Train: (76020, 307)\n",
      "Test: (75818, 306)\n",
      "X: (76020, 306)\n",
      "y: (76020,) \n",
      "XTrain: (38010, 306)\n",
      "XTest: (38010, 306) \n",
      "yTrain: (38010,)\n",
      "yTest: (38010,)\n"
     ]
    },
    {
     "ename": "IndexError",
     "evalue": "index 38011 is out of bounds for axis 0 with size 38010",
     "output_type": "error",
     "traceback": [
      "\u001b[1;31m---------------------------------------------------------------------------\u001b[0m",
      "\u001b[1;31mIndexError\u001b[0m                                Traceback (most recent call last)",
      "\u001b[1;32m<ipython-input-27-fcb4f78c5bd8>\u001b[0m in \u001b[0;36m<module>\u001b[1;34m()\u001b[0m\n\u001b[0;32m     87\u001b[0m \u001b[1;33m\u001b[0m\u001b[0m\n\u001b[0;32m     88\u001b[0m \u001b[1;31m# time: 9s\u001b[0m\u001b[1;33m\u001b[0m\u001b[1;33m\u001b[0m\u001b[0m\n\u001b[1;32m---> 89\u001b[1;33m \u001b[0mscores\u001b[0m\u001b[1;33m[\u001b[0m\u001b[1;34m'extra_tree'\u001b[0m\u001b[1;33m]\u001b[0m \u001b[1;33m=\u001b[0m \u001b[0mscore_model\u001b[0m\u001b[1;33m(\u001b[0m\u001b[0mensemble\u001b[0m\u001b[1;33m.\u001b[0m\u001b[0mExtraTreesClassifier\u001b[0m\u001b[1;33m(\u001b[0m\u001b[1;33m)\u001b[0m\u001b[1;33m)\u001b[0m\u001b[1;33m\u001b[0m\u001b[0m\n\u001b[0m\u001b[0;32m     90\u001b[0m \u001b[1;33m\u001b[0m\u001b[0m\n\u001b[0;32m     91\u001b[0m \u001b[1;31m# time: 7s\u001b[0m\u001b[1;33m\u001b[0m\u001b[1;33m\u001b[0m\u001b[0m\n",
      "\u001b[1;32m<ipython-input-27-fcb4f78c5bd8>\u001b[0m in \u001b[0;36mscore_model\u001b[1;34m(model)\u001b[0m\n\u001b[0;32m     81\u001b[0m \u001b[1;33m\u001b[0m\u001b[0m\n\u001b[0;32m     82\u001b[0m \u001b[1;32mdef\u001b[0m \u001b[0mscore_model\u001b[0m\u001b[1;33m(\u001b[0m\u001b[0mmodel\u001b[0m\u001b[1;33m)\u001b[0m\u001b[1;33m:\u001b[0m\u001b[1;33m\u001b[0m\u001b[0m\n\u001b[1;32m---> 83\u001b[1;33m     \u001b[1;32mreturn\u001b[0m \u001b[0mcv\u001b[0m\u001b[1;33m.\u001b[0m\u001b[0mcross_val_score\u001b[0m\u001b[1;33m(\u001b[0m\u001b[0mmodel\u001b[0m\u001b[1;33m,\u001b[0m \u001b[0mX_train\u001b[0m\u001b[1;33m,\u001b[0m \u001b[0my_train\u001b[0m\u001b[1;33m,\u001b[0m \u001b[0mcv\u001b[0m\u001b[1;33m=\u001b[0m\u001b[0mskf\u001b[0m\u001b[1;33m,\u001b[0m \u001b[0mscoring\u001b[0m\u001b[1;33m=\u001b[0m\u001b[0mscore_metric\u001b[0m\u001b[1;33m)\u001b[0m\u001b[1;33m\u001b[0m\u001b[0m\n\u001b[0m\u001b[0;32m     84\u001b[0m \u001b[1;33m\u001b[0m\u001b[0m\n\u001b[0;32m     85\u001b[0m \u001b[1;31m# time: 10s\u001b[0m\u001b[1;33m\u001b[0m\u001b[1;33m\u001b[0m\u001b[0m\n",
      "\u001b[1;32m/home/harsh/Projects/enviro/local/lib/python2.7/site-packages/sklearn/cross_validation.pyc\u001b[0m in \u001b[0;36mcross_val_score\u001b[1;34m(estimator, X, y, scoring, cv, n_jobs, verbose, fit_params, score_func, pre_dispatch)\u001b[0m\n\u001b[0;32m   1149\u001b[0m                                               \u001b[0mtrain\u001b[0m\u001b[1;33m,\u001b[0m \u001b[0mtest\u001b[0m\u001b[1;33m,\u001b[0m \u001b[0mverbose\u001b[0m\u001b[1;33m,\u001b[0m \u001b[0mNone\u001b[0m\u001b[1;33m,\u001b[0m\u001b[1;33m\u001b[0m\u001b[0m\n\u001b[0;32m   1150\u001b[0m                                               fit_params)\n\u001b[1;32m-> 1151\u001b[1;33m                       for train, test in cv)\n\u001b[0m\u001b[0;32m   1152\u001b[0m     \u001b[1;32mreturn\u001b[0m \u001b[0mnp\u001b[0m\u001b[1;33m.\u001b[0m\u001b[0marray\u001b[0m\u001b[1;33m(\u001b[0m\u001b[0mscores\u001b[0m\u001b[1;33m)\u001b[0m\u001b[1;33m[\u001b[0m\u001b[1;33m:\u001b[0m\u001b[1;33m,\u001b[0m \u001b[1;36m0\u001b[0m\u001b[1;33m]\u001b[0m\u001b[1;33m\u001b[0m\u001b[0m\n\u001b[0;32m   1153\u001b[0m \u001b[1;33m\u001b[0m\u001b[0m\n",
      "\u001b[1;32m/home/harsh/Projects/enviro/local/lib/python2.7/site-packages/sklearn/externals/joblib/parallel.pyc\u001b[0m in \u001b[0;36m__call__\u001b[1;34m(self, iterable)\u001b[0m\n\u001b[0;32m    651\u001b[0m             \u001b[0mself\u001b[0m\u001b[1;33m.\u001b[0m\u001b[0m_iterating\u001b[0m \u001b[1;33m=\u001b[0m \u001b[0mTrue\u001b[0m\u001b[1;33m\u001b[0m\u001b[0m\n\u001b[0;32m    652\u001b[0m             \u001b[1;32mfor\u001b[0m \u001b[0mfunction\u001b[0m\u001b[1;33m,\u001b[0m \u001b[0margs\u001b[0m\u001b[1;33m,\u001b[0m \u001b[0mkwargs\u001b[0m \u001b[1;32min\u001b[0m \u001b[0miterable\u001b[0m\u001b[1;33m:\u001b[0m\u001b[1;33m\u001b[0m\u001b[0m\n\u001b[1;32m--> 653\u001b[1;33m                 \u001b[0mself\u001b[0m\u001b[1;33m.\u001b[0m\u001b[0mdispatch\u001b[0m\u001b[1;33m(\u001b[0m\u001b[0mfunction\u001b[0m\u001b[1;33m,\u001b[0m \u001b[0margs\u001b[0m\u001b[1;33m,\u001b[0m \u001b[0mkwargs\u001b[0m\u001b[1;33m)\u001b[0m\u001b[1;33m\u001b[0m\u001b[0m\n\u001b[0m\u001b[0;32m    654\u001b[0m \u001b[1;33m\u001b[0m\u001b[0m\n\u001b[0;32m    655\u001b[0m             \u001b[1;32mif\u001b[0m \u001b[0mpre_dispatch\u001b[0m \u001b[1;33m==\u001b[0m \u001b[1;34m\"all\"\u001b[0m \u001b[1;32mor\u001b[0m \u001b[0mn_jobs\u001b[0m \u001b[1;33m==\u001b[0m \u001b[1;36m1\u001b[0m\u001b[1;33m:\u001b[0m\u001b[1;33m\u001b[0m\u001b[0m\n",
      "\u001b[1;32m/home/harsh/Projects/enviro/local/lib/python2.7/site-packages/sklearn/externals/joblib/parallel.pyc\u001b[0m in \u001b[0;36mdispatch\u001b[1;34m(self, func, args, kwargs)\u001b[0m\n\u001b[0;32m    398\u001b[0m         \"\"\"\n\u001b[0;32m    399\u001b[0m         \u001b[1;32mif\u001b[0m \u001b[0mself\u001b[0m\u001b[1;33m.\u001b[0m\u001b[0m_pool\u001b[0m \u001b[1;32mis\u001b[0m \u001b[0mNone\u001b[0m\u001b[1;33m:\u001b[0m\u001b[1;33m\u001b[0m\u001b[0m\n\u001b[1;32m--> 400\u001b[1;33m             \u001b[0mjob\u001b[0m \u001b[1;33m=\u001b[0m \u001b[0mImmediateApply\u001b[0m\u001b[1;33m(\u001b[0m\u001b[0mfunc\u001b[0m\u001b[1;33m,\u001b[0m \u001b[0margs\u001b[0m\u001b[1;33m,\u001b[0m \u001b[0mkwargs\u001b[0m\u001b[1;33m)\u001b[0m\u001b[1;33m\u001b[0m\u001b[0m\n\u001b[0m\u001b[0;32m    401\u001b[0m             \u001b[0mindex\u001b[0m \u001b[1;33m=\u001b[0m \u001b[0mlen\u001b[0m\u001b[1;33m(\u001b[0m\u001b[0mself\u001b[0m\u001b[1;33m.\u001b[0m\u001b[0m_jobs\u001b[0m\u001b[1;33m)\u001b[0m\u001b[1;33m\u001b[0m\u001b[0m\n\u001b[0;32m    402\u001b[0m             \u001b[1;32mif\u001b[0m \u001b[1;32mnot\u001b[0m \u001b[0m_verbosity_filter\u001b[0m\u001b[1;33m(\u001b[0m\u001b[0mindex\u001b[0m\u001b[1;33m,\u001b[0m \u001b[0mself\u001b[0m\u001b[1;33m.\u001b[0m\u001b[0mverbose\u001b[0m\u001b[1;33m)\u001b[0m\u001b[1;33m:\u001b[0m\u001b[1;33m\u001b[0m\u001b[0m\n",
      "\u001b[1;32m/home/harsh/Projects/enviro/local/lib/python2.7/site-packages/sklearn/externals/joblib/parallel.pyc\u001b[0m in \u001b[0;36m__init__\u001b[1;34m(self, func, args, kwargs)\u001b[0m\n\u001b[0;32m    136\u001b[0m         \u001b[1;31m# Don't delay the application, to avoid keeping the input\u001b[0m\u001b[1;33m\u001b[0m\u001b[1;33m\u001b[0m\u001b[0m\n\u001b[0;32m    137\u001b[0m         \u001b[1;31m# arguments in memory\u001b[0m\u001b[1;33m\u001b[0m\u001b[1;33m\u001b[0m\u001b[0m\n\u001b[1;32m--> 138\u001b[1;33m         \u001b[0mself\u001b[0m\u001b[1;33m.\u001b[0m\u001b[0mresults\u001b[0m \u001b[1;33m=\u001b[0m \u001b[0mfunc\u001b[0m\u001b[1;33m(\u001b[0m\u001b[1;33m*\u001b[0m\u001b[0margs\u001b[0m\u001b[1;33m,\u001b[0m \u001b[1;33m**\u001b[0m\u001b[0mkwargs\u001b[0m\u001b[1;33m)\u001b[0m\u001b[1;33m\u001b[0m\u001b[0m\n\u001b[0m\u001b[0;32m    139\u001b[0m \u001b[1;33m\u001b[0m\u001b[0m\n\u001b[0;32m    140\u001b[0m     \u001b[1;32mdef\u001b[0m \u001b[0mget\u001b[0m\u001b[1;33m(\u001b[0m\u001b[0mself\u001b[0m\u001b[1;33m)\u001b[0m\u001b[1;33m:\u001b[0m\u001b[1;33m\u001b[0m\u001b[0m\n",
      "\u001b[1;32m/home/harsh/Projects/enviro/local/lib/python2.7/site-packages/sklearn/cross_validation.pyc\u001b[0m in \u001b[0;36m_fit_and_score\u001b[1;34m(estimator, X, y, scorer, train, test, verbose, parameters, fit_params, return_train_score, return_parameters)\u001b[0m\n\u001b[0;32m   1232\u001b[0m     \u001b[0mstart_time\u001b[0m \u001b[1;33m=\u001b[0m \u001b[0mtime\u001b[0m\u001b[1;33m.\u001b[0m\u001b[0mtime\u001b[0m\u001b[1;33m(\u001b[0m\u001b[1;33m)\u001b[0m\u001b[1;33m\u001b[0m\u001b[0m\n\u001b[0;32m   1233\u001b[0m \u001b[1;33m\u001b[0m\u001b[0m\n\u001b[1;32m-> 1234\u001b[1;33m     \u001b[0mX_train\u001b[0m\u001b[1;33m,\u001b[0m \u001b[0my_train\u001b[0m \u001b[1;33m=\u001b[0m \u001b[0m_safe_split\u001b[0m\u001b[1;33m(\u001b[0m\u001b[0mestimator\u001b[0m\u001b[1;33m,\u001b[0m \u001b[0mX\u001b[0m\u001b[1;33m,\u001b[0m \u001b[0my\u001b[0m\u001b[1;33m,\u001b[0m \u001b[0mtrain\u001b[0m\u001b[1;33m)\u001b[0m\u001b[1;33m\u001b[0m\u001b[0m\n\u001b[0m\u001b[0;32m   1235\u001b[0m     \u001b[0mX_test\u001b[0m\u001b[1;33m,\u001b[0m \u001b[0my_test\u001b[0m \u001b[1;33m=\u001b[0m \u001b[0m_safe_split\u001b[0m\u001b[1;33m(\u001b[0m\u001b[0mestimator\u001b[0m\u001b[1;33m,\u001b[0m \u001b[0mX\u001b[0m\u001b[1;33m,\u001b[0m \u001b[0my\u001b[0m\u001b[1;33m,\u001b[0m \u001b[0mtest\u001b[0m\u001b[1;33m,\u001b[0m \u001b[0mtrain\u001b[0m\u001b[1;33m)\u001b[0m\u001b[1;33m\u001b[0m\u001b[0m\n\u001b[0;32m   1236\u001b[0m     \u001b[1;32mif\u001b[0m \u001b[0my_train\u001b[0m \u001b[1;32mis\u001b[0m \u001b[0mNone\u001b[0m\u001b[1;33m:\u001b[0m\u001b[1;33m\u001b[0m\u001b[0m\n",
      "\u001b[1;32m/home/harsh/Projects/enviro/local/lib/python2.7/site-packages/sklearn/cross_validation.pyc\u001b[0m in \u001b[0;36m_safe_split\u001b[1;34m(estimator, X, y, indices, train_indices)\u001b[0m\n\u001b[0;32m   1279\u001b[0m                 \u001b[0mX_subset\u001b[0m \u001b[1;33m=\u001b[0m \u001b[0mX\u001b[0m\u001b[1;33m[\u001b[0m\u001b[0mnp\u001b[0m\u001b[1;33m.\u001b[0m\u001b[0mix_\u001b[0m\u001b[1;33m(\u001b[0m\u001b[0mindices\u001b[0m\u001b[1;33m,\u001b[0m \u001b[0mtrain_indices\u001b[0m\u001b[1;33m)\u001b[0m\u001b[1;33m]\u001b[0m\u001b[1;33m\u001b[0m\u001b[0m\n\u001b[0;32m   1280\u001b[0m         \u001b[1;32melse\u001b[0m\u001b[1;33m:\u001b[0m\u001b[1;33m\u001b[0m\u001b[0m\n\u001b[1;32m-> 1281\u001b[1;33m             \u001b[0mX_subset\u001b[0m \u001b[1;33m=\u001b[0m \u001b[0msafe_indexing\u001b[0m\u001b[1;33m(\u001b[0m\u001b[0mX\u001b[0m\u001b[1;33m,\u001b[0m \u001b[0mindices\u001b[0m\u001b[1;33m)\u001b[0m\u001b[1;33m\u001b[0m\u001b[0m\n\u001b[0m\u001b[0;32m   1282\u001b[0m \u001b[1;33m\u001b[0m\u001b[0m\n\u001b[0;32m   1283\u001b[0m     \u001b[1;32mif\u001b[0m \u001b[0my\u001b[0m \u001b[1;32mis\u001b[0m \u001b[1;32mnot\u001b[0m \u001b[0mNone\u001b[0m\u001b[1;33m:\u001b[0m\u001b[1;33m\u001b[0m\u001b[0m\n",
      "\u001b[1;32m/home/harsh/Projects/enviro/local/lib/python2.7/site-packages/sklearn/utils/__init__.pyc\u001b[0m in \u001b[0;36msafe_indexing\u001b[1;34m(X, indices)\u001b[0m\n\u001b[0;32m    148\u001b[0m     \"\"\"\n\u001b[0;32m    149\u001b[0m     \u001b[1;32mif\u001b[0m \u001b[0mhasattr\u001b[0m\u001b[1;33m(\u001b[0m\u001b[0mX\u001b[0m\u001b[1;33m,\u001b[0m \u001b[1;34m\"shape\"\u001b[0m\u001b[1;33m)\u001b[0m\u001b[1;33m:\u001b[0m\u001b[1;33m\u001b[0m\u001b[0m\n\u001b[1;32m--> 150\u001b[1;33m         \u001b[1;32mreturn\u001b[0m \u001b[0mX\u001b[0m\u001b[1;33m[\u001b[0m\u001b[0mindices\u001b[0m\u001b[1;33m]\u001b[0m\u001b[1;33m\u001b[0m\u001b[0m\n\u001b[0m\u001b[0;32m    151\u001b[0m     \u001b[1;32melse\u001b[0m\u001b[1;33m:\u001b[0m\u001b[1;33m\u001b[0m\u001b[0m\n\u001b[0;32m    152\u001b[0m         \u001b[1;32mreturn\u001b[0m \u001b[1;33m[\u001b[0m\u001b[0mX\u001b[0m\u001b[1;33m[\u001b[0m\u001b[0midx\u001b[0m\u001b[1;33m]\u001b[0m \u001b[1;32mfor\u001b[0m \u001b[0midx\u001b[0m \u001b[1;32min\u001b[0m \u001b[0mindices\u001b[0m\u001b[1;33m]\u001b[0m\u001b[1;33m\u001b[0m\u001b[0m\n",
      "\u001b[1;31mIndexError\u001b[0m: index 38011 is out of bounds for axis 0 with size 38010"
     ]
    }
   ],
   "source": [
    "print_shapes()\n",
    "\n",
    "# How many nulls are there in the datasets?\n",
    "nulls_train = (train_dataset.isnull().sum()==1).sum()\n",
    "nulls_test = (test_dataset.isnull().sum()==1).sum()\n",
    "print 'There are {} nulls in TRAIN and {} nulls in TEST dataset.'.format(nulls_train, nulls_test) \n",
    "# Remove constant features\n",
    "\n",
    "def identify_constant_features(dataframe):\n",
    "    count_uniques = dataframe.apply(lambda x: len(x.unique()))\n",
    "    constants = count_uniques[count_uniques == 1].index.tolist()\n",
    "    return constants\n",
    "\n",
    "constant_features_train = set(identify_constant_features(train_dataset))\n",
    "\n",
    "# print 'There were {} constant features in TRAIN dataset.'.format(len(constant_features_train))\n",
    "\n",
    "# Drop the constant features\n",
    "train_dataset.drop(constant_features_train, inplace=True, axis=1)\n",
    "test_dataset.drop(constant_features_train, inplace=True, axis=1)\n",
    "\n",
    "print_shapes()\n",
    "# Remove equals features\n",
    "\n",
    "def identify_equal_features(dataframe):\n",
    "    features_to_compare = list(combinations(dataframe.columns.tolist(),2))\n",
    "    equal_features = []\n",
    "    for compare in features_to_compare:\n",
    "        is_equal = array_equal(dataframe[compare[0]],dataframe[compare[1]])\n",
    "        if is_equal:\n",
    "            equal_features.append(list(compare))\n",
    "    return equal_features\n",
    "\n",
    "equal_features_train = identify_equal_features(train_dataset)\n",
    "# print equal_features_train\n",
    "print 'There were {} pairs of equal features in TRAIN dataset.'.format(len(equal_features_train))\n",
    "\n",
    "# Remove the second feature of each pair.\n",
    "if len(equal_features_train) > 0:\n",
    "    features_to_drop = array(equal_features_train)[:,1]\n",
    "\n",
    "    train_dataset.drop(features_to_drop, axis=1, inplace=True)\n",
    "    test_dataset.drop(features_to_drop, axis=1, inplace=True)\n",
    "\n",
    "print_shapes()\n",
    "# Define the variables model.\n",
    "\n",
    "y_name = 'TARGET'\n",
    "feature_names = train_dataset.columns.tolist()\n",
    "feature_names.remove(y_name)\n",
    "\n",
    "X = train_dataset[feature_names]\n",
    "y = train_dataset[y_name]\n",
    "\n",
    "X_test = test_dataset[feature_names]\n",
    "\n",
    "\n",
    "# Save the features selected for later use.\n",
    "pd.Series(feature_names).to_csv('features_selected_step1.csv', index=False)\n",
    "# print 'Features selected\\n{}'.format(feature_names)\n",
    "   \n",
    "    \n",
    "# Proportion of classes\n",
    "y.value_counts()/len(y)\n",
    "\n",
    "skf = cv.StratifiedKFold(y, n_folds=3, shuffle=True)\n",
    "score_metric = 'roc_auc'\n",
    "scores = {}\n",
    "\n",
    "\n",
    "from sklearn.cross_validation import train_test_split\n",
    "from sklearn import metrics\n",
    "# shuffle and split training and test sets\n",
    "X_train, X_test, y_train, y_test = train_test_split(X, y, test_size=.5,random_state=1)\n",
    "\n",
    "def print_shapes_split():\n",
    "    print 'X: {}\\ny: {} '.format(np.shape(X), np.shape(y))\n",
    "    print 'XTrain: {}\\nXTest: {} \\nyTrain: {}\\nyTest: {}'.format(np.shape(X_train), np.shape(X_test), np.shape(y_train), np.shape(y_test))\n",
    "\n",
    "print_shapes_split()\n",
    "\n",
    "def score_model(model):\n",
    "    return cv.cross_val_score(model, X_train, y_train, cv=skf, scoring=score_metric)\n",
    "\n",
    "# time: 10s\n",
    "scores['tree'] = score_model(tree.DecisionTreeClassifier()) \n",
    "\n",
    "# time: 9s\n",
    "scores['extra_tree'] = score_model(ensemble.ExtraTreesClassifier())\n",
    "\n",
    "# time: 7s\n",
    "scores['forest'] = score_model(ensemble.RandomForestClassifier())\n",
    "\n",
    "# time: 33s\n",
    "scores['ada_boost'] = score_model(ensemble.AdaBoostClassifier())\n",
    "\n",
    "# time: 1min\n",
    "scores['bagging'] = score_model(ensemble.BaggingClassifier())\n",
    "\n",
    "# time: 2min30s\n",
    "scores['grad_boost'] = score_model(ensemble.GradientBoostingClassifier())\n",
    "\n",
    "# time: 49s\n",
    "scores['ridge'] = score_model(linear_model.RidgeClassifier())\n",
    "\n",
    "# time: 4s\n",
    "scores['passive'] = score_model(linear_model.PassiveAggressiveClassifier())\n",
    "\n",
    "# time: 4s\n",
    "scores['sgd'] = score_model(linear_model.SGDClassifier())\n",
    "\n",
    "# time: 3s\n",
    "scores['gaussian'] = score_model(naive_bayes.GaussianNB())\n",
    "\n",
    "# time: 4min\n",
    "scores['xgboost'] = score_model(xgb.XGBClassifier())\n",
    "\n",
    "\n",
    "# Print the scores\n",
    "model_scores = pd.DataFrame(scores).mean()\n",
    "model_scores.sort_values(ascending=False)\n",
    "model_scores.to_csv('model_scores.csv', index=False)\n",
    "print 'Model scores\\n{}'.format(model_scores)"
   ]
  },
  {
   "cell_type": "code",
   "execution_count": 6,
   "metadata": {
    "collapsed": true
   },
   "outputs": [],
   "source": [
    "clfTree = tree.DecisionTreeClassifier()\n",
    "clfTree = clfTree.fit(X, y)\n",
    "probTree = clfTree.predict_proba(X)[:,1]"
   ]
  },
  {
   "cell_type": "code",
   "execution_count": 7,
   "metadata": {
    "collapsed": false
   },
   "outputs": [
    {
     "name": "stdout",
     "output_type": "stream",
     "text": [
      "(76020,)\n"
     ]
    }
   ],
   "source": [
    "print np.shape(probTree)\n"
   ]
  },
  {
   "cell_type": "code",
   "execution_count": 8,
   "metadata": {
    "collapsed": true
   },
   "outputs": [],
   "source": [
    "clfExtraTree = tree.ExtraTreeClassifier()\n",
    "clfExtraTree = clfExtraTree.fit(X, y)\n",
    "probExtraTree = clfExtraTree.predict_proba(X)[:,1]\n"
   ]
  },
  {
   "cell_type": "code",
   "execution_count": 9,
   "metadata": {
    "collapsed": false
   },
   "outputs": [
    {
     "name": "stdout",
     "output_type": "stream",
     "text": [
      "(76020,)\n"
     ]
    }
   ],
   "source": [
    "print np.shape(probExtraTree)"
   ]
  },
  {
   "cell_type": "code",
   "execution_count": 10,
   "metadata": {
    "collapsed": false
   },
   "outputs": [
    {
     "name": "stdout",
     "output_type": "stream",
     "text": [
      "forest (76020,)\n",
      "Adaboost (76020,)\n",
      "Bagging (76020,)\n",
      "Gboosting (76020,)\n"
     ]
    }
   ],
   "source": [
    "clfforest = ensemble.RandomForestClassifier()\n",
    "clfforest = clfforest.fit(X, y)\n",
    "probforest = clfforest.predict_proba(X)[:,1]\n",
    "print 'forest', np.shape(probforest)\n",
    "\n",
    "clfada = ensemble.AdaBoostClassifier()\n",
    "clfada = clfada.fit(X, y)\n",
    "probada = clfada.predict_proba(X)[:,1]\n",
    "print 'Adaboost', np.shape(probada)\n",
    "\n",
    "clfBagging = ensemble.BaggingClassifier()\n",
    "clfBagging = clfBagging.fit(X, y)\n",
    "probBagging = clfBagging.predict_proba(X)[:,1]\n",
    "print 'Bagging', np.shape(probBagging)\n",
    "\n",
    "clfGradientBoosting = ensemble.GradientBoostingClassifier()\n",
    "clfGradientBoosting = clfGradientBoosting.fit(X, y)\n",
    "probGradientBoosting = clfGradientBoosting.predict_proba(X)[:,1]\n",
    "print 'Gboosting', np.shape(probGradientBoosting)\n"
   ]
  },
  {
   "cell_type": "code",
   "execution_count": 11,
   "metadata": {
    "collapsed": false
   },
   "outputs": [
    {
     "name": "stdout",
     "output_type": "stream",
     "text": [
      "Ridge (76020,)\n",
      "Pasiive (76020,)\n",
      "SGD (76020,)\n",
      "NB (76020,)\n",
      "XGB (76020,)\n"
     ]
    }
   ],
   "source": [
    "\n",
    "clfRidge = linear_model.RidgeClassifier()\n",
    "clfRidge = clfRidge.fit(X, y)\n",
    "probRidge = clfRidge.decision_function(X)\n",
    "print 'Ridge', np.shape(probRidge)\n",
    "\n",
    "clfPassiveAggressive = linear_model.PassiveAggressiveClassifier()\n",
    "clfPassiveAggressive = clfPassiveAggressive.fit(X, y)\n",
    "probPassiveAggressive = clfPassiveAggressive.decision_function(X)\n",
    "print 'Pasiive', np.shape(probPassiveAggressive)\n",
    "\n",
    "clfSGD = linear_model.SGDClassifier()\n",
    "clfSGD = clfSGD.fit(X, y)\n",
    "probSGD = clfSGD.decision_function(X)\n",
    "print 'SGD', np.shape(probSGD)\n",
    "\n",
    "clfNB = naive_bayes.GaussianNB()\n",
    "clfNB = clfNB.fit(X, y)\n",
    "probNB = clfNB.predict_proba(X)[:,1]\n",
    "print 'NB', np.shape(probNB)\n",
    "\n",
    "\n",
    "clfxgb = xgb.XGBClassifier()\n",
    "clfxgb = clfxgb.fit(X, y)\n",
    "probxgb = clfxgb.predict_proba(X)[:,1]\n",
    "print 'XGB', np.shape(probxgb)"
   ]
  },
  {
   "cell_type": "code",
   "execution_count": 12,
   "metadata": {
    "collapsed": false
   },
   "outputs": [
    {
     "name": "stdout",
     "output_type": "stream",
     "text": [
      "(76020, 11)\n"
     ]
    }
   ],
   "source": [
    "X_en = np.vstack([probforest, probBagging, probExtraTree, probGradientBoosting, probNB, probPassiveAggressive, probRidge, probSGD, probTree, probada, probxgb])\n",
    "X_enT = X_en.T\n",
    "print np.shape(X_enT)"
   ]
  },
  {
   "cell_type": "code",
   "execution_count": 35,
   "metadata": {
    "collapsed": false
   },
   "outputs": [
    {
     "name": "stdout",
     "output_type": "stream",
     "text": [
      "XGB Score [ 0.99915106  0.99874277  0.99909945]\n",
      "Grad Boost Score [ 0.99903568  0.99863058  0.99901069]\n",
      "Ada Boost Score [ 0.9989849   0.99846766  0.99888894]\n"
     ]
    }
   ],
   "source": [
    "# clf_xgbF = xgb.fit(X_enT, y)\n",
    "# pred = clf_xgbF.predict(X)\n",
    "print 'XGB Score', cv.cross_val_score(xgb.XGBClassifier(), X_enT, y, cv=skf, scoring=score_metric)\n",
    "print 'Grad Boost Score', cv.cross_val_score(ensemble.GradientBoostingClassifier(), X_enT, y, cv=skf, scoring=score_metric)\n",
    "print 'Ada Boost Score', cv.cross_val_score(ensemble.AdaBoostClassifier(), X_enT, y, cv=skf, scoring=score_metric)"
   ]
  },
  {
   "cell_type": "code",
   "execution_count": 18,
   "metadata": {
    "collapsed": false
   },
   "outputs": [],
   "source": [
    "\n",
    "clf_xgbF = clfxgb.fit(X_enT, y)\n",
    "#pred = clf_xgbF.predict(X_test)\n"
   ]
  },
  {
   "cell_type": "code",
   "execution_count": 14,
   "metadata": {
    "collapsed": false
   },
   "outputs": [
    {
     "name": "stderr",
     "output_type": "stream",
     "text": [
      "/home/harsh/Projects/enviro/local/lib/python2.7/site-packages/matplotlib/font_manager.py:1288: UserWarning: findfont: Font family [u'Arial'] not found. Falling back to Bitstream Vera Sans\n",
      "  (prop.get_family(), self.defaultFamily[fontext]))\n",
      "/home/harsh/Projects/enviro/local/lib/python2.7/site-packages/matplotlib/font_manager.py:1298: UserWarning: findfont: Could not match :family=Bitstream Vera Sans:style=normal:variant=normal:weight=400:stretch=normal:size=10.0. Returning /usr/share/matplotlib/mpl-data/fonts/ttf/cmb10.ttf\n",
      "  UserWarning)\n"
     ]
    },
    {
     "data": {
      "image/png": "[encoded data removed]",
      "text/plain": [
       "<matplotlib.figure.Figure at 0x7fbe5e7cc090>"
      ]
     },
     "metadata": {},
     "output_type": "display_data"
    }
   ],
   "source": [
    "\n",
    "# Evaluating Performance\n",
    "\n",
    "import numpy as np, pylab as pl\n",
    "# get overall accuracy and F1 score to print at top of plot\n",
    "pscore = metrics.accuracy_score(y_test, pred)\n",
    "score = metrics.f1_score(y_test, pred, pos_label=list(set(y_test)))\n",
    "# get size of the full label set\n",
    "categories = [\"Satisfied\", \"Unsatisfied\"]\n",
    "dur = len(categories)\n",
    "#print \"Building testing confusion matrix...\"\n",
    "# initialize score matrices\n",
    "trueScores = np.zeros(shape=(dur,dur))\n",
    "predScores = np.zeros(shape=(dur,dur))\n",
    "# populate totals\n",
    "for i in xrange(len(y_test)-1):\n",
    "  trueIdx = y_test[i]\n",
    "  predIdx = pred[i]\n",
    "  trueScores[trueIdx,trueIdx] += 1\n",
    "  predScores[trueIdx,predIdx] += 1\n",
    "# create %-based results\n",
    "trueSums = np.sum(trueScores,axis=0)\n",
    "conf = np.zeros(shape=predScores.shape)\n",
    "for i in xrange(len(predScores)):\n",
    "  for j in xrange(dur):\n",
    "    conf[i,j] = predScores[i,j] / trueSums[i]\n",
    "# plot the confusion matrix\n",
    "hq = pl.figure(figsize=(15,15));\n",
    "aq = hq.add_subplot(1,1,1)\n",
    "aq.set_aspect(1)\n",
    "res = aq.imshow(conf,cmap=pl.get_cmap('Greens'),interpolation='nearest',vmin=-0.05,vmax=1.)\n",
    "width = len(conf)\n",
    "height = len(conf[0])\n",
    "done = []\n",
    "# label each grid cell with the misclassification rates\n",
    "for w in xrange(width):\n",
    "  for h in xrange(height):\n",
    "      pval = conf[w][h]\n",
    "      c = 'k'\n",
    "      rais = w\n",
    "      if pval > 0.5: c = 'w'\n",
    "      if pval > 0.001:\n",
    "        if w == h:\n",
    "          aq.annotate(\"{0:1.1f}%\\n{1:1.0f}/{2:1.0f}\".format(pval*100.,predScores[w][h],trueSums[w]), xy=(h, w), \n",
    "                  horizontalalignment='center',\n",
    "                  verticalalignment='center',color=c,size=10)\n",
    "        else:\n",
    "          aq.annotate(\"{0:1.1f}%\\n{1:1.0f}\".format(pval*100.,predScores[w][h]), xy=(h, w), \n",
    "                  horizontalalignment='center',\n",
    "                  verticalalignment='center',color=c,size=10)\n",
    "# label the axes\n",
    "pl.xticks(range(width), categories[:width],rotation=90,size=10)\n",
    "pl.yticks(range(height), categories[:height],size=10)\n",
    "# add a title with the F1 score and accuracy\n",
    "aq.set_title(\"lbl\" + \" Prediction, Test Set (f1: \"+\"{0:1.3f}\".format(score)+', accuracy: '+'{0:2.1f}%'.format(100*pscore)+\", \" + str(len(y_test)) + \" items)\",fontname='Arial',size=10,color='k')\n",
    "aq.set_ylabel(\"Actual\",fontname='Arial',size=10,color='k')\n",
    "aq.set_xlabel(\"Predicted\",fontname='Arial',size=10,color='k')\n",
    "pl.grid(b=True,axis='both')\n",
    "# save it\n",
    "pl.savefig(\"pred.conf.test.png\")"
   ]
  },
  {
   "cell_type": "code",
   "execution_count": 15,
   "metadata": {
    "collapsed": false
   },
   "outputs": [
    {
     "name": "stdout",
     "output_type": "stream",
     "text": [
      "(75818, 306)\n"
     ]
    }
   ],
   "source": [
    "#Testing\n",
    "print np.shape(test_dataset) "
   ]
  },
  {
   "cell_type": "code",
   "execution_count": 16,
   "metadata": {
    "collapsed": false
   },
   "outputs": [],
   "source": [
    "XTest = test_dataset\n",
    "testprobTree = clfTree.predict_proba(XTest)[:,1]\n",
    "testprobExtraTree = clfExtraTree.predict_proba(XTest)[:,1]\n",
    "testprobforest = clfforest.predict_proba(XTest)[:,1]\n",
    "testprobada = clfada.predict_proba(XTest)[:,1]\n",
    "testprobBagging = clfBagging.predict_proba(XTest)[:,1]\n",
    "testprobGradientBoosting = clfGradientBoosting.predict_proba(XTest)[:,1]\n",
    "testprobRidge = clfRidge.decision_function(XTest)\n",
    "testprobPassiveAggressive = clfPassiveAggressive.decision_function(XTest)\n",
    "testprobSGD = clfSGD.decision_function(XTest)\n",
    "testprobNB = clfNB.predict_proba(XTest)[:,1]\n",
    "testprobxgb = clfxgb.predict_proba(XTest)[:,1]\n",
    "\n",
    "X_entest = np.vstack([testprobforest, testprobBagging, testprobExtraTree, testprobGradientBoosting, testprobNB, testprobPassiveAggressive, testprobRidge, testprobSGD, testprobTree, testprobada, testprobxgb])\n",
    "X_en_test = X_entest.T"
   ]
  },
  {
   "cell_type": "code",
   "execution_count": 19,
   "metadata": {
    "collapsed": false
   },
   "outputs": [
    {
     "name": "stdout",
     "output_type": "stream",
     "text": [
      "(75818, 11)\n"
     ]
    }
   ],
   "source": [
    "# predTest = clf_xgbF.predict(X_en_test)\n",
    "# clf_xgbF.predict(\n",
    "#clf_xgbF = clfxgb.fit(X_enT, y)\n",
    "\n",
    "print np.shape(X_en_test)\n",
    "predTest = clf_xgbF.predict(X_en_test)"
   ]
  },
  {
   "cell_type": "code",
   "execution_count": 20,
   "metadata": {
    "collapsed": false
   },
   "outputs": [],
   "source": [
    "df_test = pd.read_csv('./input/test.csv')\n",
    "id_test = df_test['ID']"
   ]
  },
  {
   "cell_type": "code",
   "execution_count": 21,
   "metadata": {
    "collapsed": true
   },
   "outputs": [],
   "source": [
    "submission = pd.DataFrame({\"ID\":id_test, \"TARGET\":predTest})\n",
    "submission.to_csv(\"submission.csv\", index=False)"
   ]
  },
  {
   "cell_type": "code",
   "execution_count": null,
   "metadata": {
    "collapsed": true
   },
   "outputs": [],
   "source": []
  }
 ],
 "metadata": {
  "kernelspec": {
   "display_name": "Python 2",
   "language": "python",
   "name": "python2"
  },
  "language_info": {
   "codemirror_mode": {
    "name": "ipython",
    "version": 2
   },
   "file_extension": ".py",
   "mimetype": "text/x-python",
   "name": "python",
   "nbconvert_exporter": "python",
   "pygments_lexer": "ipython2",
   "version": "2.7.6"
  }
 },
 "nbformat": 4,
 "nbformat_minor": 0
}
